{
 "cells": [
  {
   "cell_type": "code",
   "execution_count": 1,
   "id": "14e3df52-2169-468b-8294-5a94e12e84e0",
   "metadata": {},
   "outputs": [],
   "source": [
    "import igl\n",
    "import os"
   ]
  },
  {
   "cell_type": "code",
   "execution_count": 2,
   "id": "8296f2d9-2417-483a-813d-7b8020472aed",
   "metadata": {},
   "outputs": [],
   "source": [
    "def save_obj(path, v, f):\n",
    "    with open(path, 'w') as file:\n",
    "        for i in range(len(v)):\n",
    "            if len(v[i]) == 6:\n",
    "                file.write('v %f %f %f %f %f %f\\n' % (v[i][0], v[i][1], v[i][2], v[i][3], v[i][4], v[i][5]))\n",
    "            elif len(v[i]) == 3:\n",
    "                file.write('v %f %f %f\\n' % (v[i][0], v[i][1], v[i][2]))\n",
    "        file.write('\\n')\n",
    "        for i in range(len(f)):\n",
    "            file.write('f %d %d %d\\n' % (f[i, 0]+1, f[i, 1]+1, f[i, 2]+1))\n",
    "    file.close()"
   ]
  },
  {
   "cell_type": "code",
   "execution_count": 16,
   "id": "cdb3ab42-c438-4663-81cb-8d65a86cae0d",
   "metadata": {},
   "outputs": [
    {
     "data": {
      "text/plain": [
       "True"
      ]
     },
     "execution_count": 16,
     "metadata": {},
     "output_type": "execute_result"
    }
   ],
   "source": [
    "os.path.exists('./dataset/RGB3DCaricShop_raw_t_mesh_plus/processedData/labelled_tMesh.obj')"
   ]
  },
  {
   "cell_type": "code",
   "execution_count": 18,
   "id": "1416ed3b-673f-4f80-aed2-5d550a68c183",
   "metadata": {},
   "outputs": [
    {
     "name": "stderr",
     "output_type": "stream",
     "text": [
      "Error: readOBJ() vertex on line 3424 should have at least 3 coordinates"
     ]
    },
    {
     "ename": "ValueError",
     "evalue": "File './dataset/RGB3DCaricShop_raw_t_mesh_plus/processedData/labelled_tMesh.obj' not found.",
     "output_type": "error",
     "traceback": [
      "\u001b[0;31m---------------------------------------------------------------------------\u001b[0m",
      "\u001b[0;31mValueError\u001b[0m                                Traceback (most recent call last)",
      "Cell \u001b[0;32mIn[18], line 1\u001b[0m\n\u001b[0;32m----> 1\u001b[0m v,f \u001b[38;5;241m=\u001b[39m \u001b[43migl\u001b[49m\u001b[38;5;241;43m.\u001b[39;49m\u001b[43mread_triangle_mesh\u001b[49m\u001b[43m(\u001b[49m\u001b[38;5;124;43m'\u001b[39;49m\u001b[38;5;124;43m./dataset/RGB3DCaricShop_raw_t_mesh_plus/processedData/labelled_tMesh.obj\u001b[39;49m\u001b[38;5;124;43m'\u001b[39;49m\u001b[43m)\u001b[49m\n",
      "\u001b[0;31mValueError\u001b[0m: File './dataset/RGB3DCaricShop_raw_t_mesh_plus/processedData/labelled_tMesh.obj' not found."
     ]
    }
   ],
   "source": [
    "v,f = igl.read_triangle_mesh('./dataset/RGB3DCaricShop_raw_t_mesh_plus/processedData/labelled_tMesh.obj')"
   ]
  },
  {
   "cell_type": "code",
   "execution_count": null,
   "id": "cf5b8931-9aba-4f65-b0c0-3d1a920af31a",
   "metadata": {},
   "outputs": [],
   "source": []
  },
  {
   "cell_type": "code",
   "execution_count": null,
   "id": "5157ffca-2d30-49d4-974d-05a0318c97d7",
   "metadata": {},
   "outputs": [],
   "source": []
  },
  {
   "cell_type": "code",
   "execution_count": null,
   "id": "1288ea6c-3b25-4997-98b8-86c60d63ab7a",
   "metadata": {},
   "outputs": [],
   "source": []
  },
  {
   "cell_type": "code",
   "execution_count": 8,
   "id": "5faa4841-ef5f-4c54-9e44-82bfda8b1f7d",
   "metadata": {},
   "outputs": [],
   "source": [
    "src_dir = '/media/hay/WD_4TB/lyy/RGB3DCaricShop_raw_t_mesh_plus/processedData/tMesh'\n",
    "tgt_dir = '/media/hay/WD_4TB/lyy/3DCaricShop_raw_t_mesh_plus'"
   ]
  },
  {
   "cell_type": "code",
   "execution_count": 11,
   "id": "c8a7a953-de2c-4e2f-a160-d8ecde8d3ba7",
   "metadata": {},
   "outputs": [],
   "source": [
    "os.makedirs(tgt_dir)"
   ]
  },
  {
   "cell_type": "code",
   "execution_count": 9,
   "id": "33c3f0c9-ae08-43a7-a152-b6beba6223d8",
   "metadata": {
    "scrolled": true
   },
   "outputs": [
    {
     "data": {
      "text/plain": [
       "['Steve Jobs',\n",
       " 'Steve Martin',\n",
       " 'Steve McQueen',\n",
       " 'Steven Tyler',\n",
       " 'Susan Sarandon',\n",
       " 'Tim Burton',\n",
       " 'Tom Cruise',\n",
       " 'Tom Jones',\n",
       " 'Tommy Lee Jones',\n",
       " 'Tracy Morgan',\n",
       " 'Victoria Beckham',\n",
       " 'Vincent Price',\n",
       " 'Vladimir Putin',\n",
       " 'Walter Mathau',\n",
       " 'Whoopi Goldberg',\n",
       " 'Will Smith',\n",
       " 'Willie Nelson',\n",
       " 'Woody Allen',\n",
       " 'Woody Harrelson',\n",
       " 'Xun Lu',\n",
       " 'Yan Mo',\n",
       " 'You Ge',\n",
       " 'Zooey Deschanel',\n",
       " 'Albert Einstein',\n",
       " 'Angela Merkel',\n",
       " 'Angelina Jolie',\n",
       " 'Ann Hathaway',\n",
       " 'Anthony Hopkins',\n",
       " 'Arnold Schwarzenegger',\n",
       " 'Arsene Wenger',\n",
       " 'Ashton Kutcher',\n",
       " 'Ban Ki moon',\n",
       " 'Barack Obama',\n",
       " 'Ben Stiller',\n",
       " 'Benedict Cumberbatch',\n",
       " 'Bill Murray',\n",
       " 'Bingbing Fan',\n",
       " 'Bob Marley',\n",
       " 'Bono',\n",
       " 'Brad Pitt',\n",
       " 'Bruce Willis',\n",
       " 'Cameron Diaz',\n",
       " 'Cate Blanchett',\n",
       " 'Changjiang Pan',\n",
       " 'Charles Bronson',\n",
       " 'Chen Yao',\n",
       " 'Christopher Lloyd',\n",
       " 'Chuck Berry',\n",
       " 'Chuck Norris',\n",
       " 'Clint Eastwood',\n",
       " 'Condoleezza Rice',\n",
       " 'Curly Howard',\n",
       " 'Daniel Craig',\n",
       " 'Danny DeVito',\n",
       " 'David Beckham',\n",
       " 'David Bowie',\n",
       " 'David Duchovny',\n",
       " 'Dehua Liu',\n",
       " 'Don Knotts',\n",
       " 'Donald Sutherland',\n",
       " 'Donald Trump',\n",
       " 'Elizabeth Taylor',\n",
       " 'Ellen DeGeneres',\n",
       " 'Ellen Page',\n",
       " 'Elton John',\n",
       " 'Elvis Presley',\n",
       " 'Eric Clapton',\n",
       " 'Fidel Castro',\n",
       " 'Frank Zappa',\n",
       " 'Gary Cooper',\n",
       " 'George Burns',\n",
       " 'George Clooney',\n",
       " 'Goldie Hawn',\n",
       " 'Halle Berry',\n",
       " 'Harry Potter',\n",
       " 'Helena Bonham Carter',\n",
       " 'Hilary Swank',\n",
       " 'Hillary Clinton',\n",
       " 'Hugh Grant',\n",
       " 'Hugh Jackman',\n",
       " 'Hugh Laurie',\n",
       " 'Hulk Hogan',\n",
       " 'Jack Black',\n",
       " 'Jack Nicholson',\n",
       " 'Jackie Chan',\n",
       " 'James Coburn',\n",
       " 'Jamie lee curtis',\n",
       " 'Jay-z',\n",
       " 'Jeff Bridges',\n",
       " 'Jeff Goldblum',\n",
       " 'Jennifer Aniston',\n",
       " 'Bruce Lee',\n",
       " 'DeForest Kelley',\n",
       " 'Harrison Ford',\n",
       " 'Jennifer Garner',\n",
       " 'Julia Roberts',\n",
       " 'Maggie Smith',\n",
       " 'Ming Yao',\n",
       " 'Ralph Fiennes',\n",
       " 'Steve Harvey',\n",
       " 'Jennifer Lawrence',\n",
       " 'Jessica Simpson',\n",
       " 'Jielun Zhou',\n",
       " 'Jim Carey',\n",
       " 'Jimi Hendrix',\n",
       " 'Jinping Xi',\n",
       " 'John Belushi',\n",
       " 'John Cleese',\n",
       " 'John Goodman',\n",
       " 'John Lennon',\n",
       " 'John Malkovich',\n",
       " 'John Travolta',\n",
       " 'John Wayne',\n",
       " 'Johnny Carson',\n",
       " 'Johnny Cash',\n",
       " 'Johnny Depp',\n",
       " 'Judge Judy',\n",
       " 'Kate Middleton',\n",
       " 'Keith Richards',\n",
       " 'Kofi Annan',\n",
       " 'Lady Gaga',\n",
       " 'Larry Hagman',\n",
       " 'Lee Marvin',\n",
       " 'Leonard Nimoy',\n",
       " 'Leonardo-DiCaprio',\n",
       " 'Lily Collins',\n",
       " 'Lionel Messi',\n",
       " 'Liv Tyler',\n",
       " 'Louie Armstrong',\n",
       " 'Luciano Pavarotti',\n",
       " 'Lucille Ball',\n",
       " 'Lucy Liu',\n",
       " 'Luis Suarez',\n",
       " 'Madonna',\n",
       " 'Mahatma Gandhi',\n",
       " 'Mariah Carey',\n",
       " 'Marilyn Monroe',\n",
       " 'Mark Zuckerberg',\n",
       " 'Marlon Brando',\n",
       " 'Marty Feldman',\n",
       " 'Matt Damon',\n",
       " 'Meg Ryan',\n",
       " 'Meryl Streep',\n",
       " 'Michael Caine',\n",
       " 'Michael Douglas',\n",
       " 'Michael Jackson',\n",
       " 'Michael Jordan',\n",
       " 'Michael Keaton',\n",
       " 'Michael Schumacher',\n",
       " 'Mike Tyson',\n",
       " 'Miley Cyrus',\n",
       " 'Moe Howard',\n",
       " 'Morgan Freeman',\n",
       " 'Mr Bean',\n",
       " 'Natalie Portman',\n",
       " 'Nathan Fillion',\n",
       " 'Nicole Kidman',\n",
       " 'P!nk',\n",
       " 'Paris Hilton',\n",
       " 'Patrick Stewart',\n",
       " 'Paul McCartney',\n",
       " 'Paul Newman',\n",
       " 'Penelope Cruz',\n",
       " 'Peter Falk',\n",
       " 'Prince Charles',\n",
       " 'Prince Rogers Nelson',\n",
       " 'Prince William',\n",
       " 'Queen Elizabeth II',\n",
       " 'Richard Gere',\n",
       " 'Rihanna',\n",
       " 'Robert de Niro',\n",
       " 'Robin Williams',\n",
       " 'Rod Stewart',\n",
       " 'Ron Howard',\n",
       " 'Ronaldinho',\n",
       " 'Runfa Zhou',\n",
       " 'Russell Crowe',\n",
       " 'Salma Hayek',\n",
       " 'Salvador Dali',\n",
       " 'Sam Elliot',\n",
       " 'Scarlett Johansson',\n",
       " 'Sean Connery',\n",
       " 'Sebastian Vettel',\n",
       " 'Sheldon',\n",
       " 'Steve Buscemi']"
      ]
     },
     "execution_count": 9,
     "metadata": {},
     "output_type": "execute_result"
    }
   ],
   "source": [
    "os.listdir(src_dir)"
   ]
  },
  {
   "cell_type": "code",
   "execution_count": null,
   "id": "f1280b7c-969b-40e5-a371-c22c4092aa44",
   "metadata": {},
   "outputs": [],
   "source": []
  },
  {
   "cell_type": "code",
   "execution_count": 19,
   "id": "7fe663b4-9106-4374-be71-222d4b76f679",
   "metadata": {},
   "outputs": [],
   "source": [
    "for name in os.listdir(src_dir):\n",
    "    if not os.path.exists(f'{tgt_dir}/{name}'):\n",
    "        os.makedirs(f'{tgt_dir}/{name}')\n",
    "    for file in os.listdir(f'{src_dir}/{name}'):\n",
    "        file_path = f'{src_dir}/{name}/{file}'\n",
    "        tgt_path = f'{tgt_dir}/{name}/{file}'\n",
    "        v, f = igl.read_triangle_mesh(file_path)\n",
    "        save_obj(tgt_path, v, f)"
   ]
  },
  {
   "cell_type": "code",
   "execution_count": null,
   "id": "2eb460b1-01b0-4321-84b3-ba147555f2dc",
   "metadata": {},
   "outputs": [],
   "source": []
  },
  {
   "cell_type": "code",
   "execution_count": 10,
   "id": "63657e42-ca35-4816-9705-8e3cac6b3f55",
   "metadata": {},
   "outputs": [],
   "source": [
    "tgt_dir = '/media/hay/WD_4TB/lyy/1980_no_rgb'"
   ]
  },
  {
   "cell_type": "code",
   "execution_count": 21,
   "id": "5d6c1bf9-4c29-4f9c-8a35-71db24912c24",
   "metadata": {},
   "outputs": [],
   "source": [
    "os.makedirs(tgt_dir)"
   ]
  },
  {
   "cell_type": "code",
   "execution_count": 11,
   "id": "42d8f8a3-e5e6-41c6-a625-a636d8948ca8",
   "metadata": {},
   "outputs": [],
   "source": [
    "src_dir = '/media/hay/WD_4TB/lyy/rgb_test24/meshes/1980'"
   ]
  },
  {
   "cell_type": "code",
   "execution_count": null,
   "id": "3445a2eb-67e5-482d-a1af-230f778d8d33",
   "metadata": {},
   "outputs": [],
   "source": []
  },
  {
   "cell_type": "code",
   "execution_count": 12,
   "id": "9009618d-c1c9-4366-82c3-b3cdbbb9e62a",
   "metadata": {},
   "outputs": [],
   "source": [
    "for file in os.listdir(src_dir):\n",
    "    file_path = f'{src_dir}/{file}'\n",
    "    tgt_path = f'{tgt_dir}/{file}'\n",
    "    v, f = igl.read_triangle_mesh(file_path)\n",
    "    break\n",
    "    # save_obj(tgt_path, v, f)"
   ]
  },
  {
   "cell_type": "code",
   "execution_count": 13,
   "id": "e4c703ef-095c-4412-b400-fdcbd8363ad4",
   "metadata": {},
   "outputs": [
    {
     "data": {
      "text/plain": [
       "'/media/hay/WD_4TB/lyy/rgb_test24/meshes/1980/0095.obj'"
      ]
     },
     "execution_count": 13,
     "metadata": {},
     "output_type": "execute_result"
    }
   ],
   "source": [
    "file_path"
   ]
  },
  {
   "cell_type": "code",
   "execution_count": null,
   "id": "37bea7b7-ddc1-4b36-8325-998d839d9012",
   "metadata": {},
   "outputs": [],
   "source": []
  }
 ],
 "metadata": {
  "kernelspec": {
   "display_name": "py38",
   "language": "python",
   "name": "py38"
  },
  "language_info": {
   "codemirror_mode": {
    "name": "ipython",
    "version": 3
   },
   "file_extension": ".py",
   "mimetype": "text/x-python",
   "name": "python",
   "nbconvert_exporter": "python",
   "pygments_lexer": "ipython3",
   "version": "3.8.17"
  }
 },
 "nbformat": 4,
 "nbformat_minor": 5
}
