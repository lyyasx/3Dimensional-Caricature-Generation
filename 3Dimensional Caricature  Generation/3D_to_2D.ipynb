{
 "cells": [
  {
   "cell_type": "code",
   "execution_count": 3,
   "id": "71b5d6be-3272-476c-b0de-0299342c9d2a",
   "metadata": {},
   "outputs": [],
   "source": [
    "import os\n",
    "import pickle\n",
    "import numpy as np\n",
    "import matplotlib.pyplot as plt\n",
    "import scipy.io as sio\n",
    "import igl\n",
    "import meshplot as mp\n",
    "import json\n",
    "from PIL import Image\n",
    "from pylab import imshow, plot"
   ]
  },
  {
   "cell_type": "code",
   "execution_count": 62,
   "id": "a2a20989-c15f-423b-a0b8-f4e06d0cc556",
   "metadata": {},
   "outputs": [],
   "source": [
    "mesh_file = 'dataset/RGB3DCaricShop_raw_t_mesh_eye_plus/processedData/tMesh/Arnold Schwarzenegger/C00015.obj'\n",
    "img_file = 'dataset/RGB3DCaricShop_raw_t_mesh_eye_plus/processedData/img/Arnold Schwarzenegger/C00015.jpg'\n",
    "cam_file = 'dataset/RGB3DCaricShop_raw_t_mesh_eye_plus/processedData/calib/Arnold Schwarzenegger/C00015.mat'"
   ]
  },
  {
   "cell_type": "code",
   "execution_count": 63,
   "id": "4065208d-b4a4-45c9-8b73-22e2bb9eded1",
   "metadata": {},
   "outputs": [],
   "source": [
    "v, f = igl.read_triangle_mesh(mesh_file)\n",
    "img = Image.open(img_file)\n",
    "np_img = np.array(img)\n",
    "cam = sio.loadmat(cam_file)"
   ]
  },
  {
   "cell_type": "code",
   "execution_count": 64,
   "id": "4ff591a5-b457-45c2-9882-1389d72ad29e",
   "metadata": {},
   "outputs": [],
   "source": [
    "cam_ext = cam['Ext']\n",
    "cam_int = cam['Int']\n",
    "cam_int = np.column_stack([np.row_stack([cam_int, np.array([0., 0., 1.])]), np.zeros([3])])\n",
    "cam = cam_int @ cam_ext"
   ]
  },
  {
   "cell_type": "code",
   "execution_count": 65,
   "id": "a9ede2f9-308d-4bee-80af-a3b0fa3cc248",
   "metadata": {},
   "outputs": [
    {
     "data": {
      "text/plain": [
       "array([[-6.83901093e+02,  2.69318281e+00,  3.20693087e+02,\n",
       "        -7.98088357e+02],\n",
       "       [ 5.09691319e+01,  6.88155054e+02,  3.07273642e+02,\n",
       "        -7.65952428e+02],\n",
       "       [ 9.09095000e-02, -7.80262000e-02,  9.92798000e-01,\n",
       "        -3.06583609e+00]])"
      ]
     },
     "execution_count": 65,
     "metadata": {},
     "output_type": "execute_result"
    }
   ],
   "source": [
    "cam"
   ]
  },
  {
   "cell_type": "code",
   "execution_count": 66,
   "id": "db3cdfb4-d660-49ea-a9e5-6cefcb0fac63",
   "metadata": {},
   "outputs": [
    {
     "data": {
      "text/plain": [
       "(3, 4)"
      ]
     },
     "execution_count": 66,
     "metadata": {},
     "output_type": "execute_result"
    }
   ],
   "source": [
    "cam.shape"
   ]
  },
  {
   "cell_type": "code",
   "execution_count": 67,
   "id": "40e4818b-1900-4257-a224-fb26dc816659",
   "metadata": {},
   "outputs": [
    {
     "data": {
      "text/plain": [
       "(35200, 3)"
      ]
     },
     "execution_count": 67,
     "metadata": {},
     "output_type": "execute_result"
    }
   ],
   "source": [
    "v.shape"
   ]
  },
  {
   "cell_type": "code",
   "execution_count": 68,
   "id": "b467494f-b351-45bf-a59b-459bef07d863",
   "metadata": {},
   "outputs": [],
   "source": [
    "wv = np.row_stack([v.T, np.ones([len(v)])])"
   ]
  },
  {
   "cell_type": "code",
   "execution_count": 69,
   "id": "21f0775f-4d7d-4d2b-aade-bea1939d586c",
   "metadata": {},
   "outputs": [
    {
     "data": {
      "text/plain": [
       "(4, 35200)"
      ]
     },
     "execution_count": 69,
     "metadata": {},
     "output_type": "execute_result"
    }
   ],
   "source": [
    "wv.shape"
   ]
  },
  {
   "cell_type": "code",
   "execution_count": 70,
   "id": "49f68ae8-6c2b-49a1-87d9-13a0515ff166",
   "metadata": {},
   "outputs": [],
   "source": [
    "project_v = cam @ wv"
   ]
  },
  {
   "cell_type": "code",
   "execution_count": 71,
   "id": "e6dda391-3d12-4faa-bdb4-a612abc8734a",
   "metadata": {},
   "outputs": [
    {
     "data": {
      "text/plain": [
       "(3, 35200)"
      ]
     },
     "execution_count": 71,
     "metadata": {},
     "output_type": "execute_result"
    }
   ],
   "source": [
    "project_v.shape"
   ]
  },
  {
   "cell_type": "code",
   "execution_count": 72,
   "id": "e0997175-297b-4184-ae9b-9961fe3d3650",
   "metadata": {},
   "outputs": [],
   "source": [
    "v_uv = project_v[:2] / project_v[2:]"
   ]
  },
  {
   "cell_type": "code",
   "execution_count": 51,
   "id": "8fe37cb0-4a92-4d84-b8da-441e8d5cefae",
   "metadata": {},
   "outputs": [],
   "source": [
    "def render_image(vertices, faces, ax):\n",
    "    triangles = [vertices[face] for face in faces]\n",
    "    ax.add_collection(PolyCollection(triangles, edgecolor='k', facecolor='gray', closed=True))"
   ]
  },
  {
   "cell_type": "code",
   "execution_count": 22,
   "id": "8bc09411-ec9c-4f5a-810e-03fb17b0d1cb",
   "metadata": {},
   "outputs": [],
   "source": [
    "from matplotlib.collections import PolyCollection"
   ]
  },
  {
   "cell_type": "code",
   "execution_count": 73,
   "id": "6b1e79a8-239b-49c3-99f7-2e859bb16cdf",
   "metadata": {},
   "outputs": [
    {
     "data": {
      "text/plain": [
       "(2, 35200)"
      ]
     },
     "execution_count": 73,
     "metadata": {},
     "output_type": "execute_result"
    }
   ],
   "source": [
    "v_uv.shape"
   ]
  },
  {
   "cell_type": "code",
   "execution_count": null,
   "id": "0e1c0190-a3f0-46f2-bd2f-ba99d0dcf776",
   "metadata": {},
   "outputs": [],
   "source": []
  },
  {
   "cell_type": "code",
   "execution_count": 55,
   "id": "3b34fdbc-94a1-4279-8230-8ba9b368565d",
   "metadata": {},
   "outputs": [],
   "source": [
    "from PIL import Image\n",
    "import numpy as np\n",
    "\n",
    "def sample_image(image_path, points):\n",
    "    # 打开原始图片\n",
    "    original_image = Image.open(image_path)\n",
    "\n",
    "    # 获取图片的宽度和高度\n",
    "    width, height = original_image.size\n",
    "\n",
    "    # 创建一个新的空白图片，初始为全黑\n",
    "    new_image = Image.new('RGB', (width, height), color='black')\n",
    "\n",
    "    # 将原始图片的 RGB 值根据给定的点坐标进行抽样，并填充到新图片中\n",
    "    for point in points:\n",
    "        x, y = point\n",
    "        # 确保点在图片范围内\n",
    "        if 0 <= x < width and 0 <= y < height:\n",
    "            # 获取原始图片上该点的 RGB 值\n",
    "            rgb = original_image.getpixel((x, y))\n",
    "            # 在新图片上填充该点的 RGB 值\n",
    "            new_image.putpixel((x, y), rgb)\n",
    "\n",
    "    # 保存新图片\n",
    "    new_image.save('output_image.jpg')\n",
    "\n",
    "    "
   ]
  },
  {
   "cell_type": "code",
   "execution_count": 76,
   "id": "2a0797ee-e196-4569-ab4a-6e4b7b73bde2",
   "metadata": {},
   "outputs": [],
   "source": [
    "from staticdata.rawlandmarks import CaricShop3D"
   ]
  },
  {
   "cell_type": "code",
   "execution_count": 90,
   "id": "b4787bbf-c439-4c89-85b0-286214973576",
   "metadata": {},
   "outputs": [],
   "source": [
    "idx = list(CaricShop3D.MAP_ORIG_TO_SLICED)"
   ]
  },
  {
   "cell_type": "code",
   "execution_count": 86,
   "id": "9891ba5b-7d42-4410-94df-16bb8850bdd3",
   "metadata": {},
   "outputs": [
    {
     "data": {
      "text/plain": [
       "10410"
      ]
     },
     "execution_count": 86,
     "metadata": {},
     "output_type": "execute_result"
    }
   ],
   "source": [
    "max(CaricShop3D.MAP_ORIG_TO_SLICED)"
   ]
  },
  {
   "cell_type": "code",
   "execution_count": 94,
   "id": "a186f4de-64f4-4078-8011-57b0dcf0f281",
   "metadata": {},
   "outputs": [
    {
     "data": {
      "text/plain": [
       "9725"
      ]
     },
     "execution_count": 94,
     "metadata": {},
     "output_type": "execute_result"
    }
   ],
   "source": [
    "len(idx)"
   ]
  },
  {
   "cell_type": "code",
   "execution_count": 93,
   "id": "3b3bbba8-e3ab-4e22-a2d7-49350f682195",
   "metadata": {},
   "outputs": [],
   "source": [
    "idx.extend(range(11551, 11739))"
   ]
  },
  {
   "cell_type": "code",
   "execution_count": 78,
   "id": "395cad1c-17cb-45b7-b71f-7150f78a8dc5",
   "metadata": {},
   "outputs": [
    {
     "data": {
      "text/plain": [
       "(35200, 2)"
      ]
     },
     "execution_count": 78,
     "metadata": {},
     "output_type": "execute_result"
    }
   ],
   "source": [
    "v_uv.T.shape"
   ]
  },
  {
   "cell_type": "code",
   "execution_count": 95,
   "id": "08896786-bb4f-4231-88be-7f48aadf8ecd",
   "metadata": {},
   "outputs": [],
   "source": [
    "image_path = img_file\n",
    "\n",
    "# 替换这里的points变量为你的点集合\n",
    "points = np.round(v_uv.T[idx]).astype(int)\n",
    "\n",
    "sample_image(image_path, points)"
   ]
  },
  {
   "cell_type": "code",
   "execution_count": null,
   "id": "1d5fe9ad-2c66-4fcd-b4fb-7360deb7b9fd",
   "metadata": {},
   "outputs": [],
   "source": []
  }
 ],
 "metadata": {
  "kernelspec": {
   "display_name": "py38",
   "language": "python",
   "name": "py38"
  },
  "language_info": {
   "codemirror_mode": {
    "name": "ipython",
    "version": 3
   },
   "file_extension": ".py",
   "mimetype": "text/x-python",
   "name": "python",
   "nbconvert_exporter": "python",
   "pygments_lexer": "ipython3",
   "version": "3.8.17"
  }
 },
 "nbformat": 4,
 "nbformat_minor": 5
}
