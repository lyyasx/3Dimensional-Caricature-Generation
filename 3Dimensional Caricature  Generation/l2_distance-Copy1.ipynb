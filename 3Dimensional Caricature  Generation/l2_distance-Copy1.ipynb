{
 "cells": [
  {
   "cell_type": "code",
   "execution_count": 5,
   "id": "5808d530-d38f-42ea-852a-03f9e822e584",
   "metadata": {},
   "outputs": [],
   "source": [
    "import os\n",
    "\n",
    "import igl\n",
    "import numpy as np"
   ]
  },
  {
   "cell_type": "code",
   "execution_count": 6,
   "id": "e843eed2-e841-48f8-bb7d-db9d4ab83448",
   "metadata": {},
   "outputs": [],
   "source": [
    "def save_obj(path, v, f):\n",
    "    with open(path, 'w') as file:\n",
    "        for i in range(len(v)):\n",
    "            if len(v[i]) == 6:\n",
    "                file.write('v %f %f %f %f %f %f\\n' % (v[i][0], v[i][1], v[i][2], v[i][3], v[i][4], v[i][5]))\n",
    "            elif len(v[i]) == 3:\n",
    "                file.write('v %f %f %f\\n' % (v[i][0], v[i][1], v[i][2]))\n",
    "        file.write('\\n')\n",
    "        for i in range(len(f)):\n",
    "            file.write('f %d %d %d\\n' % (f[i, 0]+1, f[i, 1]+1, f[i, 2]+1))\n",
    "    file.close()"
   ]
  },
  {
   "cell_type": "code",
   "execution_count": 7,
   "id": "74fccc7b-0a94-4477-bfdd-aa388089fcd3",
   "metadata": {},
   "outputs": [],
   "source": [
    "only_xyz_file = './dataset/only_xyz'"
   ]
  },
  {
   "cell_type": "code",
   "execution_count": 35,
   "id": "b4963731-4fb9-44d1-b988-b33efa348581",
   "metadata": {},
   "outputs": [],
   "source": [
    "os.makedirs(only_xyz_file)"
   ]
  },
  {
   "cell_type": "code",
   "execution_count": 78,
   "id": "beb0144c-96eb-4c21-9bed-e76163c7aebe",
   "metadata": {},
   "outputs": [],
   "source": [
    "new_name_no = {\n",
    "    'Angelina Jolie/C00011.obj': '0002.obj',  # 3\n",
    "    'Ann Hathaway/C00022.obj': '0004.obj',  # 5\n",
    "    # 'Anthony Hopkins/C00026.obj': '0005.obj',  # 6\n",
    "    # 'Anthony Hopkins/C00001.obj': '0006.obj',  # 7\n",
    "    # 'Arnold Schwarzenegger/C00015.obj': '0009.obj',  # 10\n",
    "    'Barack Obama/C00040.obj': '0013.obj',  # 14\n",
    "    # 'Barack Obama/C00001.obj': '0015.obj',  # 16\n",
    "    # 'Barack Obama/C00037.obj': '0016.obj',  # 17\n",
    "    # 'Ben Stiller/C00015.obj': '0018.obj',  # 19\n",
    "}"
   ]
  },
  {
   "cell_type": "code",
   "execution_count": 81,
   "id": "af33acbb-c9ab-4921-87ca-8a8b387ae269",
   "metadata": {},
   "outputs": [],
   "source": [
    "def get_new_error(gt_file, gen_file, epoch):\n",
    "    gt_mesh = f'./dataset/RGB3DCaricShop_raw_t_mesh_eye_plus/processedData/tMesh/{gt_file}'\n",
    "    gen_mesh = f'/media/hay/WD_4TB/lyy/rgb_test27/meshes/{epoch}/{gen_file}'\n",
    "    gt_v, _ = igl.read_triangle_mesh(gt_mesh)\n",
    "    gen_v, _ = igl.read_triangle_mesh(gen_mesh)\n",
    "    distances = np.linalg.norm(gt_v - gen_v, axis=1)\n",
    "    save_obj(f'{only_xyz_file}/{gen_file}', gen_v, _)\n",
    "    return np.mean(distances)"
   ]
  },
  {
   "cell_type": "code",
   "execution_count": 75,
   "id": "62dc818b-5e61-4586-9e62-75729d9b7cd7",
   "metadata": {},
   "outputs": [],
   "source": [
    "new_no_error = {\n",
    "    '0002.obj': [1, 0],  # 3\n",
    "    '0004.obj': [1, 0],  # 5\n",
    "    # '0005.obj': 1,  # 6\n",
    "    # '0006.obj': 1,  # 7\n",
    "    # '0009.obj': 1,  # 10\n",
    "    '0013.obj': [1, 0],  # 14\n",
    "    # '0015.obj': 1,  # 16\n",
    "    # '0016.obj': 1,  # 17\n",
    "    # '0018.obj': 1,  # 19\n",
    "}"
   ]
  },
  {
   "cell_type": "code",
   "execution_count": 83,
   "id": "b8d08dfd-9878-47bd-85f5-5eb4288646b6",
   "metadata": {},
   "outputs": [],
   "source": [
    "for epc in range(1700, 2000, 20):\n",
    "    for a, b in new_name_no.items():\n",
    "        er = get_new_error(a, b, epc)\n",
    "        if new_no_error[b][0] > er:\n",
    "            new_no_error[b] = [er, epc]"
   ]
  },
  {
   "cell_type": "code",
   "execution_count": 80,
   "id": "f22c27f0-3b6b-47aa-91fb-90e170ee4286",
   "metadata": {},
   "outputs": [
    {
     "data": {
      "text/plain": [
       "{'0002.obj': [0.017203863525507145, 1920],\n",
       " '0004.obj': [0.016553994532870778, 1940],\n",
       " '0013.obj': [0.017120160520511664, 1840]}"
      ]
     },
     "execution_count": 80,
     "metadata": {},
     "output_type": "execute_result"
    }
   ],
   "source": [
    "new_no_error"
   ]
  },
  {
   "cell_type": "code",
   "execution_count": null,
   "id": "6a10f3ab-7ab6-4a80-b7c5-bc6c6c9f2681",
   "metadata": {},
   "outputs": [],
   "source": []
  },
  {
   "cell_type": "code",
   "execution_count": null,
   "id": "ca686b58-2662-4b63-9fba-ff5df473ba77",
   "metadata": {},
   "outputs": [],
   "source": []
  },
  {
   "cell_type": "code",
   "execution_count": 20,
   "id": "d3cace02-cd48-4989-8589-bf2192fb17d8",
   "metadata": {},
   "outputs": [],
   "source": [
    "gt_mesh = './dataset/RGB3DCaricShop_raw_t_mesh_plus/processedData/tMesh/Angelina Jolie/C00011.obj'\n",
    "gen_mesh = '/media/hay/WD_4TB/lyy/rgb_test24/meshes/1980/0002.obj'"
   ]
  },
  {
   "cell_type": "code",
   "execution_count": 21,
   "id": "0e9161ae-9fe2-45dc-b780-10fba51761ee",
   "metadata": {},
   "outputs": [],
   "source": [
    "gt_v, _ = igl.read_triangle_mesh(gt_mesh)"
   ]
  },
  {
   "cell_type": "code",
   "execution_count": 38,
   "id": "07bd498b-bb70-4076-9668-c8d825005e4e",
   "metadata": {},
   "outputs": [],
   "source": [
    "gen_v, _ = igl.read_triangle_mesh(gen_mesh)"
   ]
  },
  {
   "cell_type": "code",
   "execution_count": 23,
   "id": "cc3e66e6-8f2f-4c6f-a4a8-37251374df03",
   "metadata": {},
   "outputs": [
    {
     "data": {
      "text/plain": [
       "((34649, 3), (34649, 3))"
      ]
     },
     "execution_count": 23,
     "metadata": {},
     "output_type": "execute_result"
    }
   ],
   "source": [
    "gt_v.shape, gen_v.shape"
   ]
  },
  {
   "cell_type": "code",
   "execution_count": 8,
   "id": "ec345ced-d980-4029-883a-ba7c2d55bce5",
   "metadata": {},
   "outputs": [],
   "source": [
    "gt_v = gt_v[:11551]\n",
    "gen_v = gen_v[:11551]"
   ]
  },
  {
   "cell_type": "code",
   "execution_count": 24,
   "id": "b90c0648-9483-40f1-8c46-9035e3817b82",
   "metadata": {},
   "outputs": [],
   "source": [
    "distances = np.linalg.norm(gt_v - gen_v, axis=1)"
   ]
  },
  {
   "cell_type": "code",
   "execution_count": 25,
   "id": "f6a49a97-0d50-4efc-bafd-b8fcf8f8f18d",
   "metadata": {},
   "outputs": [
    {
     "data": {
      "text/plain": [
       "(34649,)"
      ]
     },
     "execution_count": 25,
     "metadata": {},
     "output_type": "execute_result"
    }
   ],
   "source": [
    "distances.shape"
   ]
  },
  {
   "cell_type": "code",
   "execution_count": 26,
   "id": "2962b750-f884-48a2-9987-5f77f58573c0",
   "metadata": {},
   "outputs": [
    {
     "data": {
      "text/plain": [
       "array([0.0122948 , 0.00718942, 0.0238048 , ..., 0.03785376, 0.03009006,\n",
       "       0.03282299])"
      ]
     },
     "execution_count": 26,
     "metadata": {},
     "output_type": "execute_result"
    }
   ],
   "source": [
    "distances"
   ]
  },
  {
   "cell_type": "code",
   "execution_count": 27,
   "id": "cc3e32a5-a91e-4422-8628-3a0427a6d0ea",
   "metadata": {},
   "outputs": [
    {
     "data": {
      "text/plain": [
       "0.01883533576170626"
      ]
     },
     "execution_count": 27,
     "metadata": {},
     "output_type": "execute_result"
    }
   ],
   "source": [
    "np.mean(distances)"
   ]
  },
  {
   "cell_type": "code",
   "execution_count": 39,
   "id": "bd6e24d7-5d7b-4b30-b27d-86aa785333a0",
   "metadata": {},
   "outputs": [],
   "source": [
    "save_obj(f'{only_xyz_file}/0002.obj', gen_v, _)"
   ]
  },
  {
   "cell_type": "code",
   "execution_count": null,
   "id": "3c1c7622-e8ae-481c-8d4a-96a281a32966",
   "metadata": {},
   "outputs": [],
   "source": []
  },
  {
   "cell_type": "code",
   "execution_count": null,
   "id": "baec0640-c97d-4f87-b524-422cd45f86d4",
   "metadata": {},
   "outputs": [],
   "source": []
  },
  {
   "cell_type": "code",
   "execution_count": null,
   "id": "0872f176-1a28-496f-95ad-99bb71a851ce",
   "metadata": {},
   "outputs": [],
   "source": []
  },
  {
   "cell_type": "code",
   "execution_count": null,
   "id": "f57e4e6f-0c92-4512-b01f-171362748cdd",
   "metadata": {},
   "outputs": [],
   "source": []
  },
  {
   "cell_type": "code",
   "execution_count": 4,
   "id": "703a226b-8b7f-425c-b183-fc117a2cdffd",
   "metadata": {},
   "outputs": [],
   "source": [
    "name_no = {\n",
    "    'Angelina Jolie/C00011.obj': '0008.obj',  #\n",
    "    'Ann Hathaway/C00022.obj': '0013.obj',  #\n",
    "    'Anthony Hopkins/C00026.obj': '0017.obj',  #\n",
    "    'Anthony Hopkins/C00001.obj': '0015.obj',  #\n",
    "    'Arnold Schwarzenegger/C00015.obj': '0020.obj',  #\n",
    "    'Barack Obama/C00040.obj': '0049.obj',  #\n",
    "    'Barack Obama/C00001.obj': '0038.obj',  #\n",
    "    'Barack Obama/C00037.obj': '0048.obj',  #\n",
    "    'Ben Stiller/C00015.obj': '0054.obj',  #\n",
    "}"
   ]
  },
  {
   "cell_type": "code",
   "execution_count": 14,
   "id": "9a67a18b-3d73-4f36-87dc-865decabeeb3",
   "metadata": {},
   "outputs": [],
   "source": [
    "def get_error(gt_file, gen_file):\n",
    "    gt_mesh = f'/home/hay/LYY/ori_DeepDeformable3DCaricatures/dataset/3DCaricShop/processedData/tMesh/{gt_file}'\n",
    "    gen_mesh = f'../ori_DeepDeformable3DCaricatures/model_dir/row_test01/meshes/{gen_file}'\n",
    "    gt_v, _ = igl.read_triangle_mesh(gt_mesh)\n",
    "    gen_v, _ = igl.read_triangle_mesh(gen_mesh)\n",
    "    distances = np.linalg.norm(gt_v - gen_v, axis=1)\n",
    "    return np.mean(distances)"
   ]
  },
  {
   "cell_type": "code",
   "execution_count": 15,
   "id": "fad70adb-041e-4300-aa7a-7bf87e951d57",
   "metadata": {},
   "outputs": [
    {
     "name": "stdout",
     "output_type": "stream",
     "text": [
      "0.030431625148585138 Angelina Jolie/C00011.obj 0008.obj\n",
      "0.019919284240278955 Ann Hathaway/C00022.obj 0013.obj\n",
      "0.015224854580353692 Anthony Hopkins/C00026.obj 0017.obj\n",
      "0.016168863360835135 Anthony Hopkins/C00001.obj 0015.obj\n",
      "0.01640488404796391 Arnold Schwarzenegger/C00015.obj 0020.obj\n",
      "0.03115795729139651 Barack Obama/C00040.obj 0049.obj\n",
      "0.016906835952850318 Barack Obama/C00001.obj 0038.obj\n",
      "0.018416651643950448 Barack Obama/C00037.obj 0048.obj\n",
      "0.015658910305368576 Ben Stiller/C00015.obj 0054.obj\n"
     ]
    }
   ],
   "source": [
    "for a, b in name_no.items():\n",
    "    print(get_error(a, b), a, b)"
   ]
  },
  {
   "cell_type": "code",
   "execution_count": 28,
   "id": "ffaf9586-a805-4e34-8656-dff55c89d8c5",
   "metadata": {},
   "outputs": [],
   "source": [
    "gt_t_mesh = '/home/hay/LYY/ori_DeepDeformable3DCaricatures/dataset/3DCaricShop/processedData/tMesh/Angelina Jolie/C00011.obj'\n",
    "gen_t_mesh = '../ori_DeepDeformable3DCaricatures/model_dir/row_test01/meshes/0008.obj'"
   ]
  },
  {
   "cell_type": "code",
   "execution_count": 29,
   "id": "8e3404c7-54d1-44fa-bc17-884eea4983bf",
   "metadata": {},
   "outputs": [],
   "source": [
    "gt_t_v, _ = igl.read_triangle_mesh(gt_t_mesh)\n",
    "gen_t_v, _ = igl.read_triangle_mesh(gen_t_mesh)"
   ]
  },
  {
   "cell_type": "code",
   "execution_count": 30,
   "id": "ab9c8660-2363-46a6-8982-8278e96a8f90",
   "metadata": {},
   "outputs": [],
   "source": [
    "distances_t = np.linalg.norm(gt_t_v - gen_t_v, axis=1)"
   ]
  },
  {
   "cell_type": "code",
   "execution_count": 31,
   "id": "5bd3cb2d-2cf4-4722-86b9-933fcb9a7348",
   "metadata": {},
   "outputs": [
    {
     "data": {
      "text/plain": [
       "array([0.02989731, 0.03777773, 0.06503929, ..., 0.03346448, 0.01550418,\n",
       "       0.04675451])"
      ]
     },
     "execution_count": 31,
     "metadata": {},
     "output_type": "execute_result"
    }
   ],
   "source": [
    "distances_t"
   ]
  },
  {
   "cell_type": "code",
   "execution_count": 32,
   "id": "6d9ff7f3-1a24-4ee8-bc09-71bc38c5de89",
   "metadata": {},
   "outputs": [
    {
     "data": {
      "text/plain": [
       "0.030431625148585138"
      ]
     },
     "execution_count": 32,
     "metadata": {},
     "output_type": "execute_result"
    }
   ],
   "source": [
    "np.mean(distances_t)"
   ]
  },
  {
   "cell_type": "code",
   "execution_count": null,
   "id": "aa3cc1f9-9475-4369-a3f3-1240a2e44e88",
   "metadata": {},
   "outputs": [],
   "source": []
  }
 ],
 "metadata": {
  "kernelspec": {
   "display_name": "py38",
   "language": "python",
   "name": "py38"
  },
  "language_info": {
   "codemirror_mode": {
    "name": "ipython",
    "version": 3
   },
   "file_extension": ".py",
   "mimetype": "text/x-python",
   "name": "python",
   "nbconvert_exporter": "python",
   "pygments_lexer": "ipython3",
   "version": "3.8.17"
  }
 },
 "nbformat": 4,
 "nbformat_minor": 5
}
