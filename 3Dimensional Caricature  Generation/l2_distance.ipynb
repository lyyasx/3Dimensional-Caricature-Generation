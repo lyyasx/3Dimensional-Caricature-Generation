{
 "cells": [
  {
   "cell_type": "code",
   "execution_count": 9,
   "id": "5808d530-d38f-42ea-852a-03f9e822e584",
   "metadata": {},
   "outputs": [],
   "source": [
    "import os\n",
    "\n",
    "import igl\n",
    "import numpy as np"
   ]
  },
  {
   "cell_type": "code",
   "execution_count": 10,
   "id": "e843eed2-e841-48f8-bb7d-db9d4ab83448",
   "metadata": {},
   "outputs": [],
   "source": [
    "def save_obj(path, v, f):\n",
    "    with open(path, 'w') as file:\n",
    "        for i in range(len(v)):\n",
    "            if len(v[i]) == 6:\n",
    "                file.write('v %f %f %f %f %f %f\\n' % (v[i][0], v[i][1], v[i][2], v[i][3], v[i][4], v[i][5]))\n",
    "            elif len(v[i]) == 3:\n",
    "                file.write('v %f %f %f\\n' % (v[i][0], v[i][1], v[i][2]))\n",
    "        file.write('\\n')\n",
    "        for i in range(len(f)):\n",
    "            file.write('f %d %d %d\\n' % (f[i, 0]+1, f[i, 1]+1, f[i, 2]+1))\n",
    "    file.close()"
   ]
  },
  {
   "cell_type": "code",
   "execution_count": 11,
   "id": "74fccc7b-0a94-4477-bfdd-aa388089fcd3",
   "metadata": {},
   "outputs": [],
   "source": [
    "only_xyz_file = './dataset/only_xyz'"
   ]
  },
  {
   "cell_type": "code",
   "execution_count": 12,
   "id": "b4963731-4fb9-44d1-b988-b33efa348581",
   "metadata": {},
   "outputs": [],
   "source": [
    "os.makedirs(only_xyz_file, exist_ok = True)"
   ]
  },
  {
   "cell_type": "code",
   "execution_count": 13,
   "id": "8c65dbe8-1e93-4215-8dbc-1beea7b61e55",
   "metadata": {},
   "outputs": [],
   "source": [
    "with open(\"./sort_info_new.txt\", \"r\") as file:\n",
    "    new_name_no = {}\n",
    "    for line in file:\n",
    "        line = line.strip()\n",
    "        words = line.split()\n",
    "\n",
    "        if len(words) == 3:\n",
    "            combined = words[0]\n",
    "            last_word = \"{:04d}\".format(int(words[2]) - 1) + \".obj\"\n",
    "\n",
    "        elif len(words) == 4:\n",
    "            combined = words[0] + \" \" + words[1]\n",
    "            last_word = \"{:04d}\".format(int(words[3]) - 1) + \".obj\"\n",
    "\n",
    "        elif len(words) ==5:\n",
    "            combined = words[0] + \" \" + words[1] + \" \" + words[2]\n",
    "            last_word = \"{:04d}\".format(int(words[4]) - 1) + \".obj\"\n",
    "\n",
    "        else:\n",
    "            pass\n",
    "        new_name_no.update({combined:last_word})"
   ]
  },
  {
   "cell_type": "code",
   "execution_count": 2,
   "id": "31a09f6b-13e6-461d-bce9-ef3b0a7f1785",
   "metadata": {
    "scrolled": true
   },
   "outputs": [
    {
     "name": "stdout",
     "output_type": "stream",
     "text": [
      "{'Albert Einstein/C00020.obj': '0000.obj', 'Angela Merkel/C00024.obj': '0001.obj', 'Angelina Jolie/C00011.obj': '0002.obj', 'Ann Hathaway/C00020.obj': '0003.obj', 'Ann Hathaway/C00022.obj': '0004.obj', 'Anthony Hopkins/C00026.obj': '0005.obj', 'Anthony Hopkins/C00001.obj': '0006.obj', 'Arnold Schwarzenegger/C00008.obj': '0007.obj', 'Arnold Schwarzenegger/C00007.obj': '0008.obj', 'Arnold Schwarzenegger/C00015.obj': '0009.obj', 'Arsene Wenger/C00002.obj': '0010.obj', 'Ashton Kutcher/C00004.obj': '0011.obj', 'Ban Ki moon/C00008.obj': '0012.obj', 'Barack Obama/C00040.obj': '0013.obj', 'Barack Obama/C00018.obj': '0014.obj', 'Barack Obama/C00001.obj': '0015.obj', 'Barack Obama/C00037.obj': '0016.obj', 'Ben Stiller/C00006.obj': '0017.obj', 'Ben Stiller/C00015.obj': '0018.obj', 'Ben Stiller/C00012.obj': '0019.obj', 'Benedict Cumberbatch/C00009.obj': '0020.obj', 'Benedict Cumberbatch/C00024.obj': '0021.obj', 'Benedict Cumberbatch/C00001.obj': '0022.obj', 'Benedict Cumberbatch/C00002.obj': '0023.obj', 'Bill Murray/C00006.obj': '0024.obj', 'Bill Murray/C00021.obj': '0025.obj', 'Bill Murray/C00041.obj': '0026.obj', 'Bingbing Fan/C00004.obj': '0027.obj', 'Bob Marley/C00074.obj': '0028.obj', 'Bob Marley/C00032.obj': '0029.obj', 'Bono/C00033.obj': '0030.obj', 'Bono/C00043.obj': '0031.obj', 'Brad Pitt/C00006.obj': '0032.obj', 'Brad Pitt/C00009.obj': '0033.obj', 'Brad Pitt/C00015.obj': '0034.obj', 'Bruce Lee/C00072.obj': '0035.obj', 'Bruce Willis/C00004.obj': '0036.obj', 'Cameron Diaz/C00011.obj': '0037.obj', 'Cameron Diaz/C00008.obj': '0038.obj', 'Cameron Diaz/C00013.obj': '0039.obj', 'Cameron Diaz/C00007.obj': '0040.obj', 'Cameron Diaz/C00004.obj': '0041.obj', 'Cameron Diaz/C00012.obj': '0042.obj', 'Cate Blanchett/C00017.obj': '0043.obj', 'Cate Blanchett/C00009.obj': '0044.obj', 'Cate Blanchett/C00002.obj': '0045.obj', 'Cate Blanchett/C00012.obj': '0046.obj', 'Changjiang Pan/C00003.obj': '0047.obj', 'Changjiang Pan/C00007.obj': '0048.obj', 'Charles Bronson/C00014.obj': '0049.obj', 'Charles Bronson/C00044.obj': '0050.obj', 'Chen Yao/C00003.obj': '0051.obj', 'Chen Yao/C00002.obj': '0052.obj', 'Christopher Lloyd/C00006.obj': '0053.obj', 'Christopher Lloyd/C00009.obj': '0054.obj', 'Chuck Berry/C00007.obj': '0055.obj', 'Chuck Norris/C00021.obj': '0056.obj', 'Chuck Norris/C00018.obj': '0057.obj', 'Chuck Norris/C00004.obj': '0058.obj', 'Clint Eastwood/C00008.obj': '0059.obj', 'Clint Eastwood/C00018.obj': '0060.obj', 'Condoleezza Rice/C00008.obj': '0061.obj', 'Condoleezza Rice/C00001.obj': '0062.obj', 'Curly Howard/C00001.obj': '0063.obj', 'Daniel Craig/C00006.obj': '0064.obj', 'Daniel Craig/C00014.obj': '0065.obj', 'Daniel Craig/C00007.obj': '0066.obj', 'Daniel Craig/C00012.obj': '0067.obj', 'Danny DeVito/C00014.obj': '0068.obj', 'David Beckham/C00017.obj': '0069.obj', 'David Beckham/C00006.obj': '0070.obj', 'David Beckham/C00003.obj': '0071.obj', 'David Beckham/C00016.obj': '0072.obj', 'David Beckham/C00002.obj': '0073.obj', 'David Bowie/C00034.obj': '0074.obj', 'David Bowie/C00001.obj': '0075.obj', 'David Bowie/C00015.obj': '0076.obj', 'David Duchovny/C00011.obj': '0077.obj', 'David Duchovny/C00004.obj': '0078.obj', 'David Duchovny/C00012.obj': '0079.obj', 'DeForest Kelley/C00001.obj': '0080.obj', 'DeForest Kelley/C00004.obj': '0081.obj', 'Dehua Liu/C00006.obj': '0082.obj', 'Don Knotts/C00003.obj': '0083.obj', 'Don Knotts/C00005.obj': '0084.obj', 'Don Knotts/C00001.obj': '0085.obj', 'Don Knotts/C00002.obj': '0086.obj', 'Donald Sutherland/C00005.obj': '0087.obj', 'Donald Sutherland/C00013.obj': '0088.obj', 'Donald Trump/C00033.obj': '0089.obj', 'Donald Trump/C00031.obj': '0090.obj', 'Donald Trump/C00022.obj': '0091.obj', 'Elizabeth Taylor/C00049.obj': '0092.obj', 'Elizabeth Taylor/C00031.obj': '0093.obj', 'Elizabeth Taylor/C00009.obj': '0094.obj', 'Elizabeth Taylor/C00050.obj': '0095.obj', 'Elizabeth Taylor/C00013.obj': '0096.obj', 'Elizabeth Taylor/C00018.obj': '0097.obj', 'Elizabeth Taylor/C00002.obj': '0098.obj', 'Ellen DeGeneres/C00010.obj': '0099.obj', 'Ellen DeGeneres/C00011.obj': '0100.obj', 'Ellen DeGeneres/C00008.obj': '0101.obj', 'Ellen DeGeneres/C00005.obj': '0102.obj', 'Ellen DeGeneres/C00009.obj': '0103.obj', 'Ellen Page/C00003.obj': '0104.obj', 'Ellen Page/C00009.obj': '0105.obj', 'Ellen Page/C00002.obj': '0106.obj', 'Elton John/C00047.obj': '0107.obj', 'Elton John/C00056.obj': '0108.obj', 'Elton John/C00057.obj': '0109.obj', 'Elton John/C00044.obj': '0110.obj', 'Elton John/C00029.obj': '0111.obj', 'Elton John/C00024.obj': '0112.obj', 'Elton John/C00004.obj': '0113.obj', 'Elton John/C00023.obj': '0114.obj', 'Elvis Presley/C00018.obj': '0115.obj', 'Eric Clapton/C00030.obj': '0116.obj', 'Eric Clapton/C00007.obj': '0117.obj', 'Fidel Castro/C00002.obj': '0118.obj', 'Frank Zappa/C00034.obj': '0119.obj', 'Gary Cooper/C00001.obj': '0120.obj', 'George Burns/C00007.obj': '0121.obj', 'George Burns/C00001.obj': '0122.obj', 'George Clooney/C00014.obj': '0123.obj', 'George Clooney/C00013.obj': '0124.obj', 'George Clooney/C00018.obj': '0125.obj', 'George Clooney/C00012.obj': '0126.obj', 'Goldie Hawn/C00010.obj': '0127.obj', 'Goldie Hawn/C00007.obj': '0128.obj', 'Halle Berry/C00019.obj': '0129.obj', 'Halle Berry/C00026.obj': '0130.obj', 'Halle Berry/C00020.obj': '0131.obj', 'Halle Berry/C00003.obj': '0132.obj', 'Halle Berry/C00022.obj': '0133.obj', 'Halle Berry/C00027.obj': '0134.obj', 'Halle Berry/C00032.obj': '0135.obj', 'Harrison Ford/C00025.obj': '0136.obj', 'Harrison Ford/C00016.obj': '0137.obj', 'Harry Potter/C00006.obj': '0138.obj', 'Harry Potter/C00003.obj': '0139.obj', 'Harry Potter/C00016.obj': '0140.obj', 'Harry Potter/C00004.obj': '0141.obj', 'Harry Potter/C00012.obj': '0142.obj', 'Helena Bonham Carter/C00045.obj': '0143.obj', 'Helena Bonham Carter/C00011.obj': '0144.obj', 'Helena Bonham Carter/C00026.obj': '0145.obj', 'Hilary Swank/C00011.obj': '0146.obj', 'Hilary Swank/C00016.obj': '0147.obj', 'Hilary Swank/C00002.obj': '0148.obj', 'Hilary Swank/C00004.obj': '0149.obj', 'Hillary Clinton/C00017.obj': '0150.obj', 'Hillary Clinton/C00034.obj': '0151.obj', 'Hillary Clinton/C00027.obj': '0152.obj', 'Hillary Clinton/C00024.obj': '0153.obj', 'Hillary Clinton/C00007.obj': '0154.obj', 'Hillary Clinton/C00015.obj': '0155.obj', 'Hugh Grant/C00003.obj': '0156.obj', 'Hugh Jackman/C00009.obj': '0157.obj', 'Hugh Jackman/C00001.obj': '0158.obj', 'Hugh Jackman/C00032.obj': '0159.obj', 'Hugh Laurie/C00026.obj': '0160.obj', 'Hugh Laurie/C00005.obj': '0161.obj', 'Hugh Laurie/C00009.obj': '0162.obj', 'Hugh Laurie/C00021.obj': '0163.obj', 'Hulk Hogan/C00010.obj': '0164.obj', 'Hulk Hogan/C00046.obj': '0165.obj', 'Jack Black/C00014.obj': '0166.obj', 'Jack Black/C00013.obj': '0167.obj', 'Jack Nicholson/C00016.obj': '0168.obj', 'Jack Nicholson/C00004.obj': '0169.obj', 'Jackie Chan/C00003.obj': '0170.obj', 'Jackie Chan/C00013.obj': '0171.obj', 'Jackie Chan/C00007.obj': '0172.obj', 'Jackie Chan/C00001.obj': '0173.obj', 'Jackie Chan/C00002.obj': '0174.obj', 'James Coburn/C00006.obj': '0175.obj', 'Jamie lee curtis/C00009.obj': '0176.obj', 'Jamie lee curtis/C00016.obj': '0177.obj', 'Jamie lee curtis/C00007.obj': '0178.obj', 'Jay-z/C00006.obj': '0179.obj', 'Jay-z/C00005.obj': '0180.obj', 'Jay-z/C00001.obj': '0181.obj', 'Jeff Bridges/C00033.obj': '0182.obj', 'Jeff Bridges/C00030.obj': '0183.obj', 'Jeff Bridges/C00017.obj': '0184.obj', 'Jeff Bridges/C00006.obj': '0185.obj', 'Jeff Bridges/C00031.obj': '0186.obj', 'Jeff Bridges/C00013.obj': '0187.obj', 'Jeff Bridges/C00016.obj': '0188.obj', 'Jeff Bridges/C00022.obj': '0189.obj', 'Jeff Bridges/C00024.obj': '0190.obj', 'Jeff Bridges/C00023.obj': '0191.obj', 'Jeff Goldblum/C00006.obj': '0192.obj', 'Jennifer Aniston/C00004.obj': '0193.obj', 'Jennifer Garner/C00008.obj': '0194.obj', 'Jennifer Garner/C00014.obj': '0195.obj', 'Jennifer Garner/C00003.obj': '0196.obj', 'Jennifer Garner/C00005.obj': '0197.obj', 'Jennifer Garner/C00018.obj': '0198.obj', 'Jennifer Garner/C00002.obj': '0199.obj', 'Jennifer Garner/C00012.obj': '0200.obj', 'Jennifer Lawrence/C00017.obj': '0201.obj', 'Jessica Simpson/C00015.obj': '0202.obj', 'Jielun Zhou/C00004.obj': '0203.obj', 'Jim Carey/C00009.obj': '0204.obj', 'Jim Carey/C00001.obj': '0205.obj', 'Jimi Hendrix/C00044.obj': '0206.obj', 'Jimi Hendrix/C00029.obj': '0207.obj', 'Jimi Hendrix/C00007.obj': '0208.obj', 'Jinping Xi/C00003.obj': '0209.obj', 'John Belushi/C00012.obj': '0210.obj', 'John Cleese/C00009.obj': '0211.obj', 'John Cleese/C00015.obj': '0212.obj', 'John Goodman/C00008.obj': '0213.obj', 'John Lennon/C00008.obj': '0214.obj', 'John Malkovich/C00008.obj': '0215.obj', 'John Malkovich/C00001.obj': '0216.obj', 'John Malkovich/C00012.obj': '0217.obj', 'John Travolta/C00020.obj': '0218.obj', 'John Wayne/C00011.obj': '0219.obj', 'Johnny Carson/C00013.obj': '0220.obj', 'Johnny Carson/C00015.obj': '0221.obj', 'Johnny Cash/C00001.obj': '0222.obj', 'Johnny Depp/C00030.obj': '0223.obj', 'Johnny Depp/C00026.obj': '0224.obj', 'Johnny Depp/C00008.obj': '0225.obj', 'Johnny Depp/C00029.obj': '0226.obj', 'Johnny Depp/C00021.obj': '0227.obj', 'Johnny Depp/C00027.obj': '0228.obj', 'Johnny Depp/C00041.obj': '0229.obj', 'Judge Judy/C00008.obj': '0230.obj', 'Judge Judy/C00006.obj': '0231.obj', 'Judge Judy/C00013.obj': '0232.obj', 'Julia Roberts/C00017.obj': '0233.obj', 'Julia Roberts/C00003.obj': '0234.obj', 'Julia Roberts/C00005.obj': '0235.obj', 'Julia Roberts/C00007.obj': '0236.obj', 'Kate Middleton/C00016.obj': '0237.obj', 'Kate Middleton/C00001.obj': '0238.obj', 'Keith Richards/C00033.obj': '0239.obj', 'Kofi Annan/C00008.obj': '0240.obj', 'Kofi Annan/C00005.obj': '0241.obj', 'Lady Gaga/C00010.obj': '0242.obj', 'Lady Gaga/C00022.obj': '0243.obj', 'Larry Hagman/C00010.obj': '0244.obj', 'Larry Hagman/C00016.obj': '0245.obj', 'Larry Hagman/C00001.obj': '0246.obj', 'Lee Marvin/C00010.obj': '0247.obj', 'Leonard Nimoy/C00020.obj': '0248.obj', 'Leonard Nimoy/C00050.obj': '0249.obj', 'Leonard Nimoy/C00001.obj': '0250.obj', 'Leonard Nimoy/C00023.obj': '0251.obj', 'Leonardo-DiCaprio/C00010.obj': '0252.obj', 'Leonardo-DiCaprio/C00011.obj': '0253.obj', 'Leonardo-DiCaprio/C00006.obj': '0254.obj', 'Leonardo-DiCaprio/C00003.obj': '0255.obj', 'Leonardo-DiCaprio/C00013.obj': '0256.obj', 'Leonardo-DiCaprio/C00012.obj': '0257.obj', 'Lily Collins/C00002.obj': '0258.obj', 'Lionel Messi/C00006.obj': '0259.obj', 'Lionel Messi/C00020.obj': '0260.obj', 'Lionel Messi/C00003.obj': '0261.obj', 'Lionel Messi/C00025.obj': '0262.obj', 'Lionel Messi/C00029.obj': '0263.obj', 'Lionel Messi/C00016.obj': '0264.obj', 'Lionel Messi/C00018.obj': '0265.obj', 'Liv Tyler/C00011.obj': '0266.obj', 'Liv Tyler/C00020.obj': '0267.obj', 'Liv Tyler/C00014.obj': '0268.obj', 'Liv Tyler/C00004.obj': '0269.obj', 'Louie Armstrong/C00038.obj': '0270.obj', 'Louie Armstrong/C00009.obj': '0271.obj', 'Luciano Pavarotti/C00017.obj': '0272.obj', 'Luciano Pavarotti/C00022.obj': '0273.obj', 'Lucille Ball/C00056.obj': '0274.obj', 'Lucille Ball/C00078.obj': '0275.obj', 'Lucille Ball/C00028.obj': '0276.obj', 'Lucille Ball/C00001.obj': '0277.obj', 'Lucy Liu/C00017.obj': '0278.obj', 'Lucy Liu/C00008.obj': '0279.obj', 'Lucy Liu/C00005.obj': '0280.obj', 'Lucy Liu/C00013.obj': '0281.obj', 'Lucy Liu/C00016.obj': '0282.obj', 'Lucy Liu/C00007.obj': '0283.obj', 'Lucy Liu/C00001.obj': '0284.obj', 'Lucy Liu/C00012.obj': '0285.obj', 'Luis Suarez/C00003.obj': '0286.obj', 'Luis Suarez/C00005.obj': '0287.obj', 'Luis Suarez/C00009.obj': '0288.obj', 'Madonna/C00010.obj': '0289.obj', 'Madonna/C00008.obj': '0290.obj', 'Madonna/C00014.obj': '0291.obj', 'Madonna/C00003.obj': '0292.obj', 'Madonna/C00001.obj': '0293.obj', 'Madonna/C00002.obj': '0294.obj', 'Madonna/C00012.obj': '0295.obj', 'Maggie Smith/C00010.obj': '0296.obj', 'Maggie Smith/C00013.obj': '0297.obj', 'Mahatma Gandhi/C00026.obj': '0298.obj', 'Mahatma Gandhi/C00016.obj': '0299.obj', 'Mariah Carey/C00003.obj': '0300.obj', 'Marilyn Monroe/C00047.obj': '0301.obj', 'Marilyn Monroe/C00031.obj': '0302.obj', 'Marilyn Monroe/C00003.obj': '0303.obj', 'Marilyn Monroe/C00005.obj': '0304.obj', 'Marilyn Monroe/C00025.obj': '0305.obj', 'Marilyn Monroe/C00066.obj': '0306.obj', 'Marilyn Monroe/C00016.obj': '0307.obj', 'Marilyn Monroe/C00041.obj': '0308.obj', 'Mark Zuckerberg/C00019.obj': '0309.obj', 'Mark Zuckerberg/C00011.obj': '0310.obj', 'Mark Zuckerberg/C00014.obj': '0311.obj', 'Mark Zuckerberg/C00009.obj': '0312.obj', 'Mark Zuckerberg/C00013.obj': '0313.obj', 'Mark Zuckerberg/C00016.obj': '0314.obj', 'Mark Zuckerberg/C00012.obj': '0315.obj', 'Marlon Brando/C00028.obj': '0316.obj', 'Marty Feldman/C00014.obj': '0317.obj', 'Marty Feldman/C00009.obj': '0318.obj', 'Matt Damon/C00008.obj': '0319.obj', 'Matt Damon/C00006.obj': '0320.obj', 'Matt Damon/C00005.obj': '0321.obj', 'Matt Damon/C00009.obj': '0322.obj', 'Matt Damon/C00013.obj': '0323.obj', 'Meg Ryan/C00003.obj': '0324.obj', 'Meg Ryan/C00005.obj': '0325.obj', 'Meg Ryan/C00009.obj': '0326.obj', 'Meryl Streep/C00033.obj': '0327.obj', 'Meryl Streep/C00011.obj': '0328.obj', 'Meryl Streep/C00017.obj': '0329.obj', 'Meryl Streep/C00006.obj': '0330.obj', 'Meryl Streep/C00001.obj': '0331.obj', 'Meryl Streep/C00015.obj': '0332.obj', 'Michael Caine/C00017.obj': '0333.obj', 'Michael Caine/C00014.obj': '0334.obj', 'Michael Douglas/C00010.obj': '0335.obj', 'Michael Jackson/C00003.obj': '0336.obj', 'Michael Jackson/C00005.obj': '0337.obj', 'Michael Jackson/C00025.obj': '0338.obj', 'Michael Jackson/C00009.obj': '0339.obj', 'Michael Jackson/C00013.obj': '0340.obj', 'Michael Jackson/C00023.obj': '0341.obj', 'Michael Jordan/C00013.obj': '0342.obj', 'Michael Jordan/C00007.obj': '0343.obj', 'Michael Keaton/C00005.obj': '0344.obj', 'Michael Keaton/C00007.obj': '0345.obj', 'Michael Schumacher/C00011.obj': '0346.obj', 'Michael Schumacher/C00014.obj': '0347.obj', 'Michael Schumacher/C00004.obj': '0348.obj', 'Mike Tyson/C00011.obj': '0349.obj', 'Mike Tyson/C00008.obj': '0350.obj', 'Mike Tyson/C00024.obj': '0351.obj', 'Miley Cyrus/C00017.obj': '0352.obj', 'Miley Cyrus/C00005.obj': '0353.obj', 'Miley Cyrus/C00021.obj': '0354.obj', 'Ming Yao/C00003.obj': '0355.obj', 'Ming Yao/C00005.obj': '0356.obj', 'Ming Yao/C00009.obj': '0357.obj', 'Moe Howard/C00001.obj': '0358.obj', 'Morgan Freeman/C00006.obj': '0359.obj', 'Morgan Freeman/C00020.obj': '0360.obj', 'Morgan Freeman/C00021.obj': '0361.obj', 'Morgan Freeman/C00004.obj': '0362.obj', 'Mr Bean/C00033.obj': '0363.obj', 'Mr Bean/C00011.obj': '0364.obj', 'Mr Bean/C00014.obj': '0365.obj', 'Mr Bean/C00018.obj': '0366.obj', 'Mr Bean/C00012.obj': '0367.obj', 'Natalie Portman/C00003.obj': '0368.obj', 'Natalie Portman/C00013.obj': '0369.obj', 'Natalie Portman/C00004.obj': '0370.obj', 'Natalie Portman/C00012.obj': '0371.obj', 'Nathan Fillion/C00007.obj': '0372.obj', 'Nicole Kidman/C00010.obj': '0373.obj', 'Nicole Kidman/C00019.obj': '0374.obj', 'Nicole Kidman/C00022.obj': '0375.obj', 'Nicole Kidman/C00002.obj': '0376.obj', 'Nicole Kidman/C00012.obj': '0377.obj', 'P!nk/C00002.obj': '0378.obj', 'Paris Hilton/C00003.obj': '0379.obj', 'Paris Hilton/C00002.obj': '0380.obj', 'Patrick Stewart/C00010.obj': '0381.obj', 'Patrick Stewart/C00003.obj': '0382.obj', 'Patrick Stewart/C00001.obj': '0383.obj', 'Patrick Stewart/C00004.obj': '0384.obj', 'Patrick Stewart/C00012.obj': '0385.obj', 'Paul McCartney/C00020.obj': '0386.obj', 'Paul McCartney/C00044.obj': '0387.obj', 'Paul McCartney/C00016.obj': '0388.obj', 'Paul McCartney/C00002.obj': '0389.obj', 'Paul McCartney/C00035.obj': '0390.obj', 'Paul Newman/C00010.obj': '0391.obj', 'Paul Newman/C00023.obj': '0392.obj', 'Penelope Cruz/C00010.obj': '0393.obj', 'Penelope Cruz/C00030.obj': '0394.obj', 'Penelope Cruz/C00011.obj': '0395.obj', 'Penelope Cruz/C00008.obj': '0396.obj', 'Penelope Cruz/C00034.obj': '0397.obj', 'Penelope Cruz/C00003.obj': '0398.obj', 'Penelope Cruz/C00040.obj': '0399.obj', 'Penelope Cruz/C00018.obj': '0400.obj', 'Penelope Cruz/C00032.obj': '0401.obj', 'Penelope Cruz/C00023.obj': '0402.obj', 'Peter Falk/C00009.obj': '0403.obj', 'Prince Charles/C00020.obj': '0404.obj', 'Prince Charles/C00014.obj': '0405.obj', 'Prince Rogers Nelson/C00011.obj': '0406.obj', 'Prince William/C00011.obj': '0407.obj', 'Prince William/C00002.obj': '0408.obj', 'Queen Elizabeth II/C00047.obj': '0409.obj', 'Queen Elizabeth II/C00029.obj': '0410.obj', 'Queen Elizabeth II/C00061.obj': '0411.obj', 'Queen Elizabeth II/C00042.obj': '0412.obj', 'Ralph Fiennes/C00002.obj': '0413.obj', 'Richard Gere/C00018.obj': '0414.obj', 'Rihanna/C00008.obj': '0415.obj', 'Rihanna/C00014.obj': '0416.obj', 'Rihanna/C00009.obj': '0417.obj', 'Rihanna/C00015.obj': '0418.obj', 'Robert de Niro/C00008.obj': '0419.obj', 'Robert de Niro/C00021.obj': '0420.obj', 'Robert de Niro/C00016.obj': '0421.obj', 'Robert de Niro/C00024.obj': '0422.obj', 'Robert de Niro/C00018.obj': '0423.obj', 'Robert de Niro/C00001.obj': '0424.obj', 'Robert de Niro/C00002.obj': '0425.obj', 'Robert de Niro/C00012.obj': '0426.obj', 'Robin Williams/C00003.obj': '0427.obj', 'Robin Williams/C00009.obj': '0428.obj', 'Robin Williams/C00018.obj': '0429.obj', 'Rod Stewart/C00001.obj': '0430.obj', 'Ron Howard/C00008.obj': '0431.obj', 'Ron Howard/C00009.obj': '0432.obj', 'Ron Howard/C00004.obj': '0433.obj', 'Ronaldinho/C00006.obj': '0434.obj', 'Ronaldinho/C00003.obj': '0435.obj', 'Runfa Zhou/C00001.obj': '0436.obj', 'Runfa Zhou/C00002.obj': '0437.obj', 'Russell Crowe/C00006.obj': '0438.obj', 'Russell Crowe/C00005.obj': '0439.obj', 'Russell Crowe/C00001.obj': '0440.obj', 'Salma Hayek/C00008.obj': '0441.obj', 'Salma Hayek/C00013.obj': '0442.obj', 'Salma Hayek/C00004.obj': '0443.obj', 'Salvador Dali/C00025.obj': '0444.obj', 'Sam Elliot/C00023.obj': '0445.obj', 'Scarlett Johansson/C00057.obj': '0446.obj', 'Scarlett Johansson/C00005.obj': '0447.obj', 'Scarlett Johansson/C00078.obj': '0448.obj', 'Sebastian Vettel/C00001.obj': '0449.obj', 'Sheldon/C00003.obj': '0450.obj', 'Sheldon/C00009.obj': '0451.obj', 'Sheldon/C00012.obj': '0452.obj', 'Steve Buscemi/C00013.obj': '0453.obj', 'Steve Buscemi/C00042.obj': '0454.obj', 'Steve Harvey/C00003.obj': '0455.obj', 'Steve Jobs/C00009.obj': '0456.obj', 'Steve Jobs/C00022.obj': '0457.obj', 'Steve Jobs/C00036.obj': '0458.obj', 'Steve Jobs/C00001.obj': '0459.obj', 'Steve Jobs/C00032.obj': '0460.obj', 'Steve Jobs/C00002.obj': '0461.obj', 'Steve Jobs/C00037.obj': '0462.obj', 'Steve Martin/C00003.obj': '0463.obj', 'Steve Martin/C00005.obj': '0464.obj', 'Steve Martin/C00018.obj': '0465.obj', 'Steve McQueen/C00034.obj': '0466.obj', 'Steve McQueen/C00005.obj': '0467.obj', 'Steve McQueen/C00024.obj': '0468.obj', 'Steve McQueen/C00001.obj': '0469.obj', 'Steven Tyler/C00047.obj': '0470.obj', 'Steven Tyler/C00006.obj': '0471.obj', 'Steven Tyler/C00043.obj': '0472.obj', 'Steven Tyler/C00021.obj': '0473.obj', 'Steven Tyler/C00022.obj': '0474.obj', 'Steven Tyler/C00018.obj': '0475.obj', 'Susan Sarandon/C00017.obj': '0476.obj', 'Susan Sarandon/C00006.obj': '0477.obj', 'Susan Sarandon/C00003.obj': '0478.obj', 'Susan Sarandon/C00001.obj': '0479.obj', 'Susan Sarandon/C00004.obj': '0480.obj', 'Susan Sarandon/C00012.obj': '0481.obj', 'Tim Burton/C00036.obj': '0482.obj', 'Tom Cruise/C00006.obj': '0483.obj', 'Tom Cruise/C00003.obj': '0484.obj', 'Tom Cruise/C00016.obj': '0485.obj', 'Tom Jones/C00005.obj': '0486.obj', 'Tommy Lee Jones/C00038.obj': '0487.obj', 'Tommy Lee Jones/C00011.obj': '0488.obj', 'Tommy Lee Jones/C00014.obj': '0489.obj', 'Tommy Lee Jones/C00029.obj': '0490.obj', 'Tommy Lee Jones/C00013.obj': '0491.obj', 'Tommy Lee Jones/C00046.obj': '0492.obj', 'Tracy Morgan/C00018.obj': '0493.obj', 'Victoria Beckham/C00007.obj': '0494.obj', 'Vincent Price/C00011.obj': '0495.obj', 'Vincent Price/C00025.obj': '0496.obj', 'Vladimir Putin/C00014.obj': '0497.obj', 'Vladimir Putin/C00005.obj': '0498.obj', 'Vladimir Putin/C00002.obj': '0499.obj', 'Vladimir Putin/C00012.obj': '0500.obj', 'Walter Mathau/C00009.obj': '0501.obj', 'Whoopi Goldberg/C00040.obj': '0502.obj', 'Whoopi Goldberg/C00022.obj': '0503.obj', 'Whoopi Goldberg/C00041.obj': '0504.obj', 'Whoopi Goldberg/C00032.obj': '0505.obj', 'Whoopi Goldberg/C00035.obj': '0506.obj', 'Will Smith/C00008.obj': '0507.obj', 'Will Smith/C00003.obj': '0508.obj', 'Will Smith/C00005.obj': '0509.obj', 'Will Smith/C00007.obj': '0510.obj', 'Will Smith/C00001.obj': '0511.obj', 'Will Smith/C00002.obj': '0512.obj', 'Will Smith/C00004.obj': '0513.obj', 'Willie Nelson/C00012.obj': '0514.obj', 'Woody Allen/C00010.obj': '0515.obj', 'Woody Allen/C00017.obj': '0516.obj', 'Woody Allen/C00056.obj': '0517.obj', 'Woody Allen/C00005.obj': '0518.obj', 'Woody Allen/C00084.obj': '0519.obj', 'Woody Allen/C00004.obj': '0520.obj', 'Woody Harrelson/C00005.obj': '0521.obj', 'Xun Lu/C00001.obj': '0522.obj', 'Yan Mo/C00001.obj': '0523.obj', 'Yan Mo/C00002.obj': '0524.obj', 'You Ge/C00002.obj': '0525.obj', 'Zooey Deschanel/C00013.obj': '0526.obj', 'Zooey Deschanel/C00022.obj': '0527.obj', 'Zooey Deschanel/C00024.obj': '0528.obj', 'Zooey Deschanel/C00001.obj': '0529.obj', 'Zooey Deschanel/C00015.obj': '0530.obj'}\n"
     ]
    }
   ],
   "source": [
    "print(new_name_no)"
   ]
  },
  {
   "cell_type": "code",
   "execution_count": 78,
   "id": "beb0144c-96eb-4c21-9bed-e76163c7aebe",
   "metadata": {},
   "outputs": [],
   "source": [
    "new_name_no = {\n",
    "    'Angelina Jolie/C00011.obj': '0002.obj',  # 3\n",
    "    'Ann Hathaway/C00022.obj': '0004.obj',  # 5\n",
    "    # 'Anthony Hopkins/C00026.obj': '0005.obj',  # 6\n",
    "    # 'Anthony Hopkins/C00001.obj': '0006.obj',  # 7\n",
    "    # 'Arnold Schwarzenegger/C00015.obj': '0009.obj',  # 10\n",
    "    'Barack Obama/C00040.obj': '0013.obj',  # 14\n",
    "    # 'Barack Obama/C00001.obj': '0015.obj',  # 16\n",
    "    # 'Barack Obama/C00037.obj': '0016.obj',  # 17\n",
    "    # 'Ben Stiller/C00015.obj': '0018.obj',  # 19\n",
    "}"
   ]
  },
  {
   "cell_type": "code",
   "execution_count": 14,
   "id": "af33acbb-c9ab-4921-87ca-8a8b387ae269",
   "metadata": {},
   "outputs": [],
   "source": [
    "def get_new_error(gt_file, gen_file, epoch):\n",
    "    gt_mesh = f'./dataset/RGB3DCaricShop_raw_t_mesh_eye_plus/processedData/tMesh/{gt_file}'\n",
    "    gen_mesh = f'/media/hay/WD_4TB/lyy/rgb_test27/meshes/{epoch}/{gen_file}'\n",
    "    gt_v, _ = igl.read_triangle_mesh(gt_mesh)\n",
    "    gen_v, _ = igl.read_triangle_mesh(gen_mesh)\n",
    "    distances = np.linalg.norm(gt_v - gen_v, axis=1)\n",
    "    save_obj(f'{only_xyz_file}/{gen_file}', gen_v, _)\n",
    "    return np.mean(distances)"
   ]
  },
  {
   "cell_type": "code",
   "execution_count": 75,
   "id": "62dc818b-5e61-4586-9e62-75729d9b7cd7",
   "metadata": {},
   "outputs": [],
   "source": [
    "new_no_error = {\n",
    "    '0002.obj': [1, 0],  # 3\n",
    "    '0004.obj': [1, 0],  # 5\n",
    "    # '0005.obj': 1,  # 6\n",
    "    # '0006.obj': 1,  # 7\n",
    "    # '0009.obj': 1,  # 10\n",
    "    '0013.obj': [1, 0],  # 14\n",
    "    # '0015.obj': 1,  # 16\n",
    "    # '0016.obj': 1,  # 17\n",
    "    # '0018.obj': 1,  # 19\n",
    "}"
   ]
  },
  {
   "cell_type": "code",
   "execution_count": 15,
   "id": "d6e6aac8-fa1d-4a93-b26d-654175a08432",
   "metadata": {},
   "outputs": [],
   "source": [
    "with open(\"./sort_info_new.txt\", \"r\") as file:\n",
    "    new_no_error = {}\n",
    "    for line in file:\n",
    "        line = line.strip()\n",
    "        words = line.split()\n",
    "\n",
    "        if len(words) == 3:\n",
    "            last_word = \"{:04d}\".format(int(words[2]) - 1) + \".obj\"\n",
    "\n",
    "        elif len(words) == 4:\n",
    "            last_word = \"{:04d}\".format(int(words[3]) - 1) + \".obj\"\n",
    "\n",
    "        elif len(words) ==5:\n",
    "            last_word = \"{:04d}\".format(int(words[4]) - 1) + \".obj\"\n",
    "\n",
    "        else:\n",
    "            pass\n",
    "        new_no_error.update({last_word : [1, 0]})"
   ]
  },
  {
   "cell_type": "code",
   "execution_count": 8,
   "id": "901ca743-00ac-4528-b729-e3eed362c742",
   "metadata": {},
   "outputs": [
    {
     "name": "stdout",
     "output_type": "stream",
     "text": [
      "{'0000.obj': [1, 0], '0001.obj': [1, 0], '0002.obj': [1, 0], '0003.obj': [1, 0], '0004.obj': [1, 0], '0005.obj': [1, 0], '0006.obj': [1, 0], '0007.obj': [1, 0], '0008.obj': [1, 0], '0009.obj': [1, 0], '0010.obj': [1, 0], '0011.obj': [1, 0], '0012.obj': [1, 0], '0013.obj': [1, 0], '0014.obj': [1, 0], '0015.obj': [1, 0], '0016.obj': [1, 0], '0017.obj': [1, 0], '0018.obj': [1, 0], '0019.obj': [1, 0], '0020.obj': [1, 0], '0021.obj': [1, 0], '0022.obj': [1, 0], '0023.obj': [1, 0], '0024.obj': [1, 0], '0025.obj': [1, 0], '0026.obj': [1, 0], '0027.obj': [1, 0], '0028.obj': [1, 0], '0029.obj': [1, 0], '0030.obj': [1, 0], '0031.obj': [1, 0], '0032.obj': [1, 0], '0033.obj': [1, 0], '0034.obj': [1, 0], '0035.obj': [1, 0], '0036.obj': [1, 0], '0037.obj': [1, 0], '0038.obj': [1, 0], '0039.obj': [1, 0], '0040.obj': [1, 0], '0041.obj': [1, 0], '0042.obj': [1, 0], '0043.obj': [1, 0], '0044.obj': [1, 0], '0045.obj': [1, 0], '0046.obj': [1, 0], '0047.obj': [1, 0], '0048.obj': [1, 0], '0049.obj': [1, 0], '0050.obj': [1, 0], '0051.obj': [1, 0], '0052.obj': [1, 0], '0053.obj': [1, 0], '0054.obj': [1, 0], '0055.obj': [1, 0], '0056.obj': [1, 0], '0057.obj': [1, 0], '0058.obj': [1, 0], '0059.obj': [1, 0], '0060.obj': [1, 0], '0061.obj': [1, 0], '0062.obj': [1, 0], '0063.obj': [1, 0], '0064.obj': [1, 0], '0065.obj': [1, 0], '0066.obj': [1, 0], '0067.obj': [1, 0], '0068.obj': [1, 0], '0069.obj': [1, 0], '0070.obj': [1, 0], '0071.obj': [1, 0], '0072.obj': [1, 0], '0073.obj': [1, 0], '0074.obj': [1, 0], '0075.obj': [1, 0], '0076.obj': [1, 0], '0077.obj': [1, 0], '0078.obj': [1, 0], '0079.obj': [1, 0], '0080.obj': [1, 0], '0081.obj': [1, 0], '0082.obj': [1, 0], '0083.obj': [1, 0], '0084.obj': [1, 0], '0085.obj': [1, 0], '0086.obj': [1, 0], '0087.obj': [1, 0], '0088.obj': [1, 0], '0089.obj': [1, 0], '0090.obj': [1, 0], '0091.obj': [1, 0], '0092.obj': [1, 0], '0093.obj': [1, 0], '0094.obj': [1, 0], '0095.obj': [1, 0], '0096.obj': [1, 0], '0097.obj': [1, 0], '0098.obj': [1, 0], '0099.obj': [1, 0], '0100.obj': [1, 0], '0101.obj': [1, 0], '0102.obj': [1, 0], '0103.obj': [1, 0], '0104.obj': [1, 0], '0105.obj': [1, 0], '0106.obj': [1, 0], '0107.obj': [1, 0], '0108.obj': [1, 0], '0109.obj': [1, 0], '0110.obj': [1, 0], '0111.obj': [1, 0], '0112.obj': [1, 0], '0113.obj': [1, 0], '0114.obj': [1, 0], '0115.obj': [1, 0], '0116.obj': [1, 0], '0117.obj': [1, 0], '0118.obj': [1, 0], '0119.obj': [1, 0], '0120.obj': [1, 0], '0121.obj': [1, 0], '0122.obj': [1, 0], '0123.obj': [1, 0], '0124.obj': [1, 0], '0125.obj': [1, 0], '0126.obj': [1, 0], '0127.obj': [1, 0], '0128.obj': [1, 0], '0129.obj': [1, 0], '0130.obj': [1, 0], '0131.obj': [1, 0], '0132.obj': [1, 0], '0133.obj': [1, 0], '0134.obj': [1, 0], '0135.obj': [1, 0], '0136.obj': [1, 0], '0137.obj': [1, 0], '0138.obj': [1, 0], '0139.obj': [1, 0], '0140.obj': [1, 0], '0141.obj': [1, 0], '0142.obj': [1, 0], '0143.obj': [1, 0], '0144.obj': [1, 0], '0145.obj': [1, 0], '0146.obj': [1, 0], '0147.obj': [1, 0], '0148.obj': [1, 0], '0149.obj': [1, 0], '0150.obj': [1, 0], '0151.obj': [1, 0], '0152.obj': [1, 0], '0153.obj': [1, 0], '0154.obj': [1, 0], '0155.obj': [1, 0], '0156.obj': [1, 0], '0157.obj': [1, 0], '0158.obj': [1, 0], '0159.obj': [1, 0], '0160.obj': [1, 0], '0161.obj': [1, 0], '0162.obj': [1, 0], '0163.obj': [1, 0], '0164.obj': [1, 0], '0165.obj': [1, 0], '0166.obj': [1, 0], '0167.obj': [1, 0], '0168.obj': [1, 0], '0169.obj': [1, 0], '0170.obj': [1, 0], '0171.obj': [1, 0], '0172.obj': [1, 0], '0173.obj': [1, 0], '0174.obj': [1, 0], '0175.obj': [1, 0], '0176.obj': [1, 0], '0177.obj': [1, 0], '0178.obj': [1, 0], '0179.obj': [1, 0], '0180.obj': [1, 0], '0181.obj': [1, 0], '0182.obj': [1, 0], '0183.obj': [1, 0], '0184.obj': [1, 0], '0185.obj': [1, 0], '0186.obj': [1, 0], '0187.obj': [1, 0], '0188.obj': [1, 0], '0189.obj': [1, 0], '0190.obj': [1, 0], '0191.obj': [1, 0], '0192.obj': [1, 0], '0193.obj': [1, 0], '0194.obj': [1, 0], '0195.obj': [1, 0], '0196.obj': [1, 0], '0197.obj': [1, 0], '0198.obj': [1, 0], '0199.obj': [1, 0], '0200.obj': [1, 0], '0201.obj': [1, 0], '0202.obj': [1, 0], '0203.obj': [1, 0], '0204.obj': [1, 0], '0205.obj': [1, 0], '0206.obj': [1, 0], '0207.obj': [1, 0], '0208.obj': [1, 0], '0209.obj': [1, 0], '0210.obj': [1, 0], '0211.obj': [1, 0], '0212.obj': [1, 0], '0213.obj': [1, 0], '0214.obj': [1, 0], '0215.obj': [1, 0], '0216.obj': [1, 0], '0217.obj': [1, 0], '0218.obj': [1, 0], '0219.obj': [1, 0], '0220.obj': [1, 0], '0221.obj': [1, 0], '0222.obj': [1, 0], '0223.obj': [1, 0], '0224.obj': [1, 0], '0225.obj': [1, 0], '0226.obj': [1, 0], '0227.obj': [1, 0], '0228.obj': [1, 0], '0229.obj': [1, 0], '0230.obj': [1, 0], '0231.obj': [1, 0], '0232.obj': [1, 0], '0233.obj': [1, 0], '0234.obj': [1, 0], '0235.obj': [1, 0], '0236.obj': [1, 0], '0237.obj': [1, 0], '0238.obj': [1, 0], '0239.obj': [1, 0], '0240.obj': [1, 0], '0241.obj': [1, 0], '0242.obj': [1, 0], '0243.obj': [1, 0], '0244.obj': [1, 0], '0245.obj': [1, 0], '0246.obj': [1, 0], '0247.obj': [1, 0], '0248.obj': [1, 0], '0249.obj': [1, 0], '0250.obj': [1, 0], '0251.obj': [1, 0], '0252.obj': [1, 0], '0253.obj': [1, 0], '0254.obj': [1, 0], '0255.obj': [1, 0], '0256.obj': [1, 0], '0257.obj': [1, 0], '0258.obj': [1, 0], '0259.obj': [1, 0], '0260.obj': [1, 0], '0261.obj': [1, 0], '0262.obj': [1, 0], '0263.obj': [1, 0], '0264.obj': [1, 0], '0265.obj': [1, 0], '0266.obj': [1, 0], '0267.obj': [1, 0], '0268.obj': [1, 0], '0269.obj': [1, 0], '0270.obj': [1, 0], '0271.obj': [1, 0], '0272.obj': [1, 0], '0273.obj': [1, 0], '0274.obj': [1, 0], '0275.obj': [1, 0], '0276.obj': [1, 0], '0277.obj': [1, 0], '0278.obj': [1, 0], '0279.obj': [1, 0], '0280.obj': [1, 0], '0281.obj': [1, 0], '0282.obj': [1, 0], '0283.obj': [1, 0], '0284.obj': [1, 0], '0285.obj': [1, 0], '0286.obj': [1, 0], '0287.obj': [1, 0], '0288.obj': [1, 0], '0289.obj': [1, 0], '0290.obj': [1, 0], '0291.obj': [1, 0], '0292.obj': [1, 0], '0293.obj': [1, 0], '0294.obj': [1, 0], '0295.obj': [1, 0], '0296.obj': [1, 0], '0297.obj': [1, 0], '0298.obj': [1, 0], '0299.obj': [1, 0], '0300.obj': [1, 0], '0301.obj': [1, 0], '0302.obj': [1, 0], '0303.obj': [1, 0], '0304.obj': [1, 0], '0305.obj': [1, 0], '0306.obj': [1, 0], '0307.obj': [1, 0], '0308.obj': [1, 0], '0309.obj': [1, 0], '0310.obj': [1, 0], '0311.obj': [1, 0], '0312.obj': [1, 0], '0313.obj': [1, 0], '0314.obj': [1, 0], '0315.obj': [1, 0], '0316.obj': [1, 0], '0317.obj': [1, 0], '0318.obj': [1, 0], '0319.obj': [1, 0], '0320.obj': [1, 0], '0321.obj': [1, 0], '0322.obj': [1, 0], '0323.obj': [1, 0], '0324.obj': [1, 0], '0325.obj': [1, 0], '0326.obj': [1, 0], '0327.obj': [1, 0], '0328.obj': [1, 0], '0329.obj': [1, 0], '0330.obj': [1, 0], '0331.obj': [1, 0], '0332.obj': [1, 0], '0333.obj': [1, 0], '0334.obj': [1, 0], '0335.obj': [1, 0], '0336.obj': [1, 0], '0337.obj': [1, 0], '0338.obj': [1, 0], '0339.obj': [1, 0], '0340.obj': [1, 0], '0341.obj': [1, 0], '0342.obj': [1, 0], '0343.obj': [1, 0], '0344.obj': [1, 0], '0345.obj': [1, 0], '0346.obj': [1, 0], '0347.obj': [1, 0], '0348.obj': [1, 0], '0349.obj': [1, 0], '0350.obj': [1, 0], '0351.obj': [1, 0], '0352.obj': [1, 0], '0353.obj': [1, 0], '0354.obj': [1, 0], '0355.obj': [1, 0], '0356.obj': [1, 0], '0357.obj': [1, 0], '0358.obj': [1, 0], '0359.obj': [1, 0], '0360.obj': [1, 0], '0361.obj': [1, 0], '0362.obj': [1, 0], '0363.obj': [1, 0], '0364.obj': [1, 0], '0365.obj': [1, 0], '0366.obj': [1, 0], '0367.obj': [1, 0], '0368.obj': [1, 0], '0369.obj': [1, 0], '0370.obj': [1, 0], '0371.obj': [1, 0], '0372.obj': [1, 0], '0373.obj': [1, 0], '0374.obj': [1, 0], '0375.obj': [1, 0], '0376.obj': [1, 0], '0377.obj': [1, 0], '0378.obj': [1, 0], '0379.obj': [1, 0], '0380.obj': [1, 0], '0381.obj': [1, 0], '0382.obj': [1, 0], '0383.obj': [1, 0], '0384.obj': [1, 0], '0385.obj': [1, 0], '0386.obj': [1, 0], '0387.obj': [1, 0], '0388.obj': [1, 0], '0389.obj': [1, 0], '0390.obj': [1, 0], '0391.obj': [1, 0], '0392.obj': [1, 0], '0393.obj': [1, 0], '0394.obj': [1, 0], '0395.obj': [1, 0], '0396.obj': [1, 0], '0397.obj': [1, 0], '0398.obj': [1, 0], '0399.obj': [1, 0], '0400.obj': [1, 0], '0401.obj': [1, 0], '0402.obj': [1, 0], '0403.obj': [1, 0], '0404.obj': [1, 0], '0405.obj': [1, 0], '0406.obj': [1, 0], '0407.obj': [1, 0], '0408.obj': [1, 0], '0409.obj': [1, 0], '0410.obj': [1, 0], '0411.obj': [1, 0], '0412.obj': [1, 0], '0413.obj': [1, 0], '0414.obj': [1, 0], '0415.obj': [1, 0], '0416.obj': [1, 0], '0417.obj': [1, 0], '0418.obj': [1, 0], '0419.obj': [1, 0], '0420.obj': [1, 0], '0421.obj': [1, 0], '0422.obj': [1, 0], '0423.obj': [1, 0], '0424.obj': [1, 0], '0425.obj': [1, 0], '0426.obj': [1, 0], '0427.obj': [1, 0], '0428.obj': [1, 0], '0429.obj': [1, 0], '0430.obj': [1, 0], '0431.obj': [1, 0], '0432.obj': [1, 0], '0433.obj': [1, 0], '0434.obj': [1, 0], '0435.obj': [1, 0], '0436.obj': [1, 0], '0437.obj': [1, 0], '0438.obj': [1, 0], '0439.obj': [1, 0], '0440.obj': [1, 0], '0441.obj': [1, 0], '0442.obj': [1, 0], '0443.obj': [1, 0], '0444.obj': [1, 0], '0445.obj': [1, 0], '0446.obj': [1, 0], '0447.obj': [1, 0], '0448.obj': [1, 0], '0449.obj': [1, 0], '0450.obj': [1, 0], '0451.obj': [1, 0], '0452.obj': [1, 0], '0453.obj': [1, 0], '0454.obj': [1, 0], '0455.obj': [1, 0], '0456.obj': [1, 0], '0457.obj': [1, 0], '0458.obj': [1, 0], '0459.obj': [1, 0], '0460.obj': [1, 0], '0461.obj': [1, 0], '0462.obj': [1, 0], '0463.obj': [1, 0], '0464.obj': [1, 0], '0465.obj': [1, 0], '0466.obj': [1, 0], '0467.obj': [1, 0], '0468.obj': [1, 0], '0469.obj': [1, 0], '0470.obj': [1, 0], '0471.obj': [1, 0], '0472.obj': [1, 0], '0473.obj': [1, 0], '0474.obj': [1, 0], '0475.obj': [1, 0], '0476.obj': [1, 0], '0477.obj': [1, 0], '0478.obj': [1, 0], '0479.obj': [1, 0], '0480.obj': [1, 0], '0481.obj': [1, 0], '0482.obj': [1, 0], '0483.obj': [1, 0], '0484.obj': [1, 0], '0485.obj': [1, 0], '0486.obj': [1, 0], '0487.obj': [1, 0], '0488.obj': [1, 0], '0489.obj': [1, 0], '0490.obj': [1, 0], '0491.obj': [1, 0], '0492.obj': [1, 0], '0493.obj': [1, 0], '0494.obj': [1, 0], '0495.obj': [1, 0], '0496.obj': [1, 0], '0497.obj': [1, 0], '0498.obj': [1, 0], '0499.obj': [1, 0], '0500.obj': [1, 0], '0501.obj': [1, 0], '0502.obj': [1, 0], '0503.obj': [1, 0], '0504.obj': [1, 0], '0505.obj': [1, 0], '0506.obj': [1, 0], '0507.obj': [1, 0], '0508.obj': [1, 0], '0509.obj': [1, 0], '0510.obj': [1, 0], '0511.obj': [1, 0], '0512.obj': [1, 0], '0513.obj': [1, 0], '0514.obj': [1, 0], '0515.obj': [1, 0], '0516.obj': [1, 0], '0517.obj': [1, 0], '0518.obj': [1, 0], '0519.obj': [1, 0], '0520.obj': [1, 0], '0521.obj': [1, 0], '0522.obj': [1, 0], '0523.obj': [1, 0], '0524.obj': [1, 0], '0525.obj': [1, 0], '0526.obj': [1, 0], '0527.obj': [1, 0], '0528.obj': [1, 0], '0529.obj': [1, 0], '0530.obj': [1, 0]}\n"
     ]
    }
   ],
   "source": [
    "print(new_no_error)"
   ]
  },
  {
   "cell_type": "code",
   "execution_count": 16,
   "id": "b8d08dfd-9878-47bd-85f5-5eb4288646b6",
   "metadata": {},
   "outputs": [],
   "source": [
    "for epc in range(1700, 2000, 20):\n",
    "    for a, b in new_name_no.items():\n",
    "        er = get_new_error(a, b, epc)\n",
    "        if new_no_error[b][0] > er:\n",
    "            new_no_error[b] = [er, epc]"
   ]
  },
  {
   "cell_type": "code",
   "execution_count": null,
   "id": "4f0ffb51-7630-45fb-bc87-c581de01e9e0",
   "metadata": {},
   "outputs": [],
   "source": []
  },
  {
   "cell_type": "code",
   "execution_count": null,
   "id": "5cdd375e-0346-4286-8301-13960fc0f88c",
   "metadata": {},
   "outputs": [],
   "source": []
  },
  {
   "cell_type": "code",
   "execution_count": null,
   "id": "c1b088b2-5363-4e9b-be99-edd5810d2c21",
   "metadata": {},
   "outputs": [],
   "source": []
  },
  {
   "cell_type": "code",
   "execution_count": null,
   "id": "c3485629-eb88-44e9-bc85-94895d6e90cf",
   "metadata": {},
   "outputs": [],
   "source": []
  },
  {
   "cell_type": "code",
   "execution_count": null,
   "id": "c328266a-b80c-4233-8242-66496b24241a",
   "metadata": {},
   "outputs": [],
   "source": []
  },
  {
   "cell_type": "code",
   "execution_count": null,
   "id": "c2ef93f5-e58e-45d4-b3b2-47fd7b3651b3",
   "metadata": {},
   "outputs": [],
   "source": []
  },
  {
   "cell_type": "code",
   "execution_count": null,
   "id": "ad0f12e8-580d-4ac5-8cfe-2c3574a1fe3c",
   "metadata": {},
   "outputs": [],
   "source": []
  },
  {
   "cell_type": "code",
   "execution_count": null,
   "id": "311bd1c4-c1b3-4e59-b624-b70c83d477c1",
   "metadata": {},
   "outputs": [],
   "source": []
  },
  {
   "cell_type": "code",
   "execution_count": null,
   "id": "9f90b204-9718-4ad6-b969-a741faa73b75",
   "metadata": {},
   "outputs": [],
   "source": []
  },
  {
   "cell_type": "code",
   "execution_count": null,
   "id": "56408fa7-2f0d-4b89-9c10-d8294a90878a",
   "metadata": {},
   "outputs": [],
   "source": []
  },
  {
   "cell_type": "code",
   "execution_count": null,
   "id": "d16e7b0a-e239-4150-836e-a2e1c8c1fa0c",
   "metadata": {},
   "outputs": [],
   "source": []
  },
  {
   "cell_type": "code",
   "execution_count": null,
   "id": "1aecb0ca-3465-4d88-a89f-db3213aad424",
   "metadata": {},
   "outputs": [],
   "source": []
  },
  {
   "cell_type": "code",
   "execution_count": 17,
   "id": "f22c27f0-3b6b-47aa-91fb-90e170ee4286",
   "metadata": {
    "scrolled": true
   },
   "outputs": [
    {
     "data": {
      "text/plain": [
       "{'0000.obj': [0.01907419725092299, 1940],\n",
       " '0001.obj': [0.021994346890338898, 1720],\n",
       " '0002.obj': [0.018166045422162706, 1800],\n",
       " '0003.obj': [0.01735852568693636, 1980],\n",
       " '0004.obj': [0.017711750971147612, 1980],\n",
       " '0005.obj': [0.014591073257132653, 1740],\n",
       " '0006.obj': [0.017664263149811236, 1940],\n",
       " '0007.obj': [0.018702058859688925, 1720],\n",
       " '0008.obj': [0.01703932101737596, 1800],\n",
       " '0009.obj': [0.016218753242648525, 1800],\n",
       " '0010.obj': [0.016514751598034106, 1820],\n",
       " '0011.obj': [0.018615556954606014, 1980],\n",
       " '0012.obj': [0.020563091406807652, 1800],\n",
       " '0013.obj': [0.017918471148542035, 1820],\n",
       " '0014.obj': [0.016891513227230585, 1700],\n",
       " '0015.obj': [0.016845166824427094, 1820],\n",
       " '0016.obj': [0.016400102340437078, 1940],\n",
       " '0017.obj': [0.017445448047927373, 1880],\n",
       " '0018.obj': [0.020447107244169257, 1780],\n",
       " '0019.obj': [0.019049603295137784, 1980],\n",
       " '0020.obj': [0.016945988504989344, 1960],\n",
       " '0021.obj': [0.016633623008415224, 1960],\n",
       " '0022.obj': [0.01801643223856669, 1980],\n",
       " '0023.obj': [0.01699194569727424, 1700],\n",
       " '0024.obj': [0.018920133206416924, 1960],\n",
       " '0025.obj': [0.0181860580135155, 1720],\n",
       " '0026.obj': [0.017626064014687547, 1720],\n",
       " '0027.obj': [0.01740485675423899, 1800],\n",
       " '0028.obj': [0.018697282012326753, 1900],\n",
       " '0029.obj': [0.018394383873188876, 1740],\n",
       " '0030.obj': [0.017090497370240043, 1800],\n",
       " '0031.obj': [0.016383050705919257, 1740],\n",
       " '0032.obj': [0.016195980343875607, 1980],\n",
       " '0033.obj': [0.017683262957221654, 1720],\n",
       " '0034.obj': [0.0174185661820745, 1720],\n",
       " '0035.obj': [0.016092631339467277, 1800],\n",
       " '0036.obj': [0.017537246194278266, 1780],\n",
       " '0037.obj': [0.016482217653555686, 1960],\n",
       " '0038.obj': [0.017888258306804326, 1720],\n",
       " '0039.obj': [0.018133532700401397, 1900],\n",
       " '0040.obj': [0.016512266656343706, 1720],\n",
       " '0041.obj': [0.01695806898667734, 1920],\n",
       " '0042.obj': [0.016181766991405416, 1800],\n",
       " '0043.obj': [0.018951061354051474, 1960],\n",
       " '0044.obj': [0.016167369736492444, 1800],\n",
       " '0045.obj': [0.017114791850815426, 1840],\n",
       " '0046.obj': [0.018042630812373877, 1880],\n",
       " '0047.obj': [0.016216364762412817, 1960],\n",
       " '0048.obj': [0.018918709666561957, 1960],\n",
       " '0049.obj': [0.01703830897610677, 1820],\n",
       " '0050.obj': [0.0199294184361633, 1880],\n",
       " '0051.obj': [0.017132665391749693, 1980],\n",
       " '0052.obj': [0.016077559138237336, 1780],\n",
       " '0053.obj': [0.01705739263504867, 1820],\n",
       " '0054.obj': [0.01929112994477683, 1840],\n",
       " '0055.obj': [0.017113656375169574, 1980],\n",
       " '0056.obj': [0.018737933100790423, 1840],\n",
       " '0057.obj': [0.017946388303314225, 1700],\n",
       " '0058.obj': [0.01770303763457477, 1720],\n",
       " '0059.obj': [0.016079892145454317, 1840],\n",
       " '0060.obj': [0.017809671085808165, 1840],\n",
       " '0061.obj': [0.016148657779476765, 1720],\n",
       " '0062.obj': [0.016388707286953418, 1900],\n",
       " '0063.obj': [0.018706350424446006, 1960],\n",
       " '0064.obj': [0.017707155579263563, 1700],\n",
       " '0065.obj': [0.017379493465592314, 1920],\n",
       " '0066.obj': [0.017365344576245507, 1960],\n",
       " '0067.obj': [0.01900185344984703, 1700],\n",
       " '0068.obj': [0.017608709806993354, 1960],\n",
       " '0069.obj': [0.01842427983109813, 1980],\n",
       " '0070.obj': [0.017801798185267653, 1780],\n",
       " '0071.obj': [0.01663492771937962, 1960],\n",
       " '0072.obj': [0.018198138049827554, 1980],\n",
       " '0073.obj': [0.01671721365472306, 1900],\n",
       " '0074.obj': [0.0184314908903928, 1980],\n",
       " '0075.obj': [0.018962641830432517, 1900],\n",
       " '0076.obj': [0.016312349755510745, 1980],\n",
       " '0077.obj': [0.016568807478587154, 1740],\n",
       " '0078.obj': [0.017275004489142487, 1740],\n",
       " '0079.obj': [0.01860174043362227, 1760],\n",
       " '0080.obj': [0.015045310136298482, 1840],\n",
       " '0081.obj': [0.01797020101758951, 1880],\n",
       " '0082.obj': [0.01750270162296625, 1720],\n",
       " '0083.obj': [0.017371239142146663, 1800],\n",
       " '0084.obj': [0.019200193049161943, 1720],\n",
       " '0085.obj': [0.01590972893120567, 1780],\n",
       " '0086.obj': [0.016587577027847304, 1960],\n",
       " '0087.obj': [0.019537512159447996, 1840],\n",
       " '0088.obj': [0.0171475479580202, 1700],\n",
       " '0089.obj': [0.0152799437984014, 1740],\n",
       " '0090.obj': [0.016767203065286198, 1840],\n",
       " '0091.obj': [0.017398099166726542, 1700],\n",
       " '0092.obj': [0.015413423561956366, 1700],\n",
       " '0093.obj': [0.017731253038522642, 1800],\n",
       " '0094.obj': [0.016962555599033306, 1780],\n",
       " '0095.obj': [0.018984573067298356, 1880],\n",
       " '0096.obj': [0.017669264511899013, 1800],\n",
       " '0097.obj': [0.017335246786691707, 1960],\n",
       " '0098.obj': [0.01670977924976586, 1840],\n",
       " '0099.obj': [0.018709133790691845, 1700],\n",
       " '0100.obj': [0.01909380738913559, 1820],\n",
       " '0101.obj': [0.01762526712474912, 1820],\n",
       " '0102.obj': [0.020125932821924188, 1820],\n",
       " '0103.obj': [0.01709812394158032, 1980],\n",
       " '0104.obj': [0.016550172466280013, 1800],\n",
       " '0105.obj': [0.01767328315068342, 1800],\n",
       " '0106.obj': [0.0191543759396668, 1980],\n",
       " '0107.obj': [0.0186745179456485, 1980],\n",
       " '0108.obj': [0.01809339407013581, 1980],\n",
       " '0109.obj': [0.021041853130964086, 1740],\n",
       " '0110.obj': [0.019242068307737843, 1880],\n",
       " '0111.obj': [0.018307077590776044, 1840],\n",
       " '0112.obj': [0.018525259406382964, 1960],\n",
       " '0113.obj': [0.01725930984732969, 1840],\n",
       " '0114.obj': [0.020035566601461836, 1820],\n",
       " '0115.obj': [0.01959980875180595, 1800],\n",
       " '0116.obj': [0.015659470390957084, 1980],\n",
       " '0117.obj': [0.015500257149347564, 1980],\n",
       " '0118.obj': [0.01696051604196429, 1840],\n",
       " '0119.obj': [0.01661487640985553, 1980],\n",
       " '0120.obj': [0.016134150510460337, 1960],\n",
       " '0121.obj': [0.01702343787972345, 1780],\n",
       " '0122.obj': [0.019829750921862673, 1780],\n",
       " '0123.obj': [0.01894873653334146, 1980],\n",
       " '0124.obj': [0.01714732017370763, 1780],\n",
       " '0125.obj': [0.017586667926956092, 1880],\n",
       " '0126.obj': [0.018282487235033847, 1720],\n",
       " '0127.obj': [0.018646577926335634, 1800],\n",
       " '0128.obj': [0.018265405146944313, 1900],\n",
       " '0129.obj': [0.017037862218003005, 1840],\n",
       " '0130.obj': [0.01772360288991798, 1780],\n",
       " '0131.obj': [0.01667255608954373, 1940],\n",
       " '0132.obj': [0.018543776914192803, 1780],\n",
       " '0133.obj': [0.01926379214589151, 1960],\n",
       " '0134.obj': [0.01883555987135114, 1960],\n",
       " '0135.obj': [0.020148780257405983, 1800],\n",
       " '0136.obj': [0.01919865812189393, 1720],\n",
       " '0137.obj': [0.01699184037843616, 1980],\n",
       " '0138.obj': [0.017272945999506246, 1880],\n",
       " '0139.obj': [0.017857426090850944, 1720],\n",
       " '0140.obj': [0.01579970213738663, 1720],\n",
       " '0141.obj': [0.016112786548820448, 1960],\n",
       " '0142.obj': [0.017547585055528704, 1880],\n",
       " '0143.obj': [0.016039649056268722, 1800],\n",
       " '0144.obj': [0.018932805141609332, 1800],\n",
       " '0145.obj': [0.01687572509243917, 1980],\n",
       " '0146.obj': [0.01986323289705342, 1760],\n",
       " '0147.obj': [0.017927498507162444, 1980],\n",
       " '0148.obj': [0.017845729600507346, 1900],\n",
       " '0149.obj': [0.016521820159932213, 1700],\n",
       " '0150.obj': [0.018965860443248262, 1980],\n",
       " '0151.obj': [0.01814368284842967, 1820],\n",
       " '0152.obj': [0.01838104618783486, 1820],\n",
       " '0153.obj': [0.018884485159803746, 1840],\n",
       " '0154.obj': [0.017353124898061976, 1880],\n",
       " '0155.obj': [0.01769756003581179, 1840],\n",
       " '0156.obj': [0.018159849814196317, 1740],\n",
       " '0157.obj': [0.0185887535861253, 1800],\n",
       " '0158.obj': [0.016678333727226352, 1980],\n",
       " '0159.obj': [0.017693945941726952, 1960],\n",
       " '0160.obj': [0.016253204959865215, 1960],\n",
       " '0161.obj': [0.017148553202476272, 1980],\n",
       " '0162.obj': [0.019018602140612507, 1800],\n",
       " '0163.obj': [0.016393166511397873, 1960],\n",
       " '0164.obj': [0.017641220950175836, 1700],\n",
       " '0165.obj': [0.01658436352919292, 1980],\n",
       " '0166.obj': [0.017663499665273537, 1800],\n",
       " '0167.obj': [0.016642063891044705, 1740],\n",
       " '0168.obj': [0.020360124454028527, 1900],\n",
       " '0169.obj': [0.017340738246494358, 1800],\n",
       " '0170.obj': [0.019786399309694756, 1960],\n",
       " '0171.obj': [0.01567573761494722, 1700],\n",
       " '0172.obj': [0.017286452898100546, 1840],\n",
       " '0173.obj': [0.017832853169777632, 1960],\n",
       " '0174.obj': [0.016550173841421267, 1980],\n",
       " '0175.obj': [0.01825369079575125, 1840],\n",
       " '0176.obj': [0.017432649412419666, 1980],\n",
       " '0177.obj': [0.01623777631161576, 1980],\n",
       " '0178.obj': [0.01741134096491015, 1980],\n",
       " '0179.obj': [0.018054070707336747, 1880],\n",
       " '0180.obj': [0.019363767571196316, 1800],\n",
       " '0181.obj': [0.01718950494193254, 1940],\n",
       " '0182.obj': [0.016501802288483233, 1740],\n",
       " '0183.obj': [0.01834392298849025, 1980],\n",
       " '0184.obj': [0.02060540993785841, 1960],\n",
       " '0185.obj': [0.017358476187299625, 1980],\n",
       " '0186.obj': [0.01734694749821357, 1980],\n",
       " '0187.obj': [0.01656051770413569, 1980],\n",
       " '0188.obj': [0.017716509736977717, 1980],\n",
       " '0189.obj': [0.018110634141761218, 1740],\n",
       " '0190.obj': [0.01779842258431565, 1980],\n",
       " '0191.obj': [0.017581263271775626, 1800],\n",
       " '0192.obj': [0.017489311869214257, 1800],\n",
       " '0193.obj': [0.018994629348838932, 1720],\n",
       " '0194.obj': [0.018755534127275306, 1900],\n",
       " '0195.obj': [0.01727034508960244, 1780],\n",
       " '0196.obj': [0.01888357963673702, 1780],\n",
       " '0197.obj': [0.019727671176575867, 1980],\n",
       " '0198.obj': [0.01800757998414679, 1960],\n",
       " '0199.obj': [0.016346667608583405, 1780],\n",
       " '0200.obj': [0.018453182283700128, 1760],\n",
       " '0201.obj': [0.0197423251788511, 1820],\n",
       " '0202.obj': [0.017663348466633484, 1800],\n",
       " '0203.obj': [0.01691278374832109, 1820],\n",
       " '0204.obj': [0.01828368340427424, 1960],\n",
       " '0205.obj': [0.01875898461888414, 1960],\n",
       " '0206.obj': [0.017298224306590077, 1960],\n",
       " '0207.obj': [0.01861589000290205, 1820],\n",
       " '0208.obj': [0.01863309937661021, 1840],\n",
       " '0209.obj': [0.019085624677452617, 1780],\n",
       " '0210.obj': [0.017392618963119496, 1700],\n",
       " '0211.obj': [0.018261266367907373, 1880],\n",
       " '0212.obj': [0.01869407680190525, 1720],\n",
       " '0213.obj': [0.016216540744247682, 1840],\n",
       " '0214.obj': [0.019452724970126473, 1920],\n",
       " '0215.obj': [0.018031183514231205, 1840],\n",
       " '0216.obj': [0.019015524700581755, 1880],\n",
       " '0217.obj': [0.017681155515597055, 1940],\n",
       " '0218.obj': [0.018611515376183326, 1980],\n",
       " '0219.obj': [0.016323331067734474, 1900],\n",
       " '0220.obj': [0.01796472728833526, 1900],\n",
       " '0221.obj': [0.019978884472857256, 1920],\n",
       " '0222.obj': [0.01722055753789836, 1960],\n",
       " '0223.obj': [0.01709079302318719, 1980],\n",
       " '0224.obj': [0.017574088401465307, 1740],\n",
       " '0225.obj': [0.0175147670265228, 1720],\n",
       " '0226.obj': [0.016663620458353467, 1700],\n",
       " '0227.obj': [0.019676958910106925, 1980],\n",
       " '0228.obj': [0.01668609648544856, 1960],\n",
       " '0229.obj': [0.01824206574741225, 1920],\n",
       " '0230.obj': [0.018705326371791633, 1800],\n",
       " '0231.obj': [0.01970852850271036, 1820],\n",
       " '0232.obj': [0.01828461452680724, 1720],\n",
       " '0233.obj': [0.01812109751537959, 1720],\n",
       " '0234.obj': [0.01776210378341623, 1700],\n",
       " '0235.obj': [0.015994971667080145, 1980],\n",
       " '0236.obj': [0.018271444540700194, 1780],\n",
       " '0237.obj': [0.016822429952622932, 1720],\n",
       " '0238.obj': [0.016893411228759186, 1960],\n",
       " '0239.obj': [0.01792677411401241, 1940],\n",
       " '0240.obj': [0.016727128153599797, 1800],\n",
       " '0241.obj': [0.020224151194899925, 1880],\n",
       " '0242.obj': [0.016947219666646165, 1960],\n",
       " '0243.obj': [0.018127978420777, 1980],\n",
       " '0244.obj': [0.017782054683967933, 1900],\n",
       " '0245.obj': [0.017740847998725336, 1780],\n",
       " '0246.obj': [0.017764657201615755, 1900],\n",
       " '0247.obj': [0.01652522425586434, 1960],\n",
       " '0248.obj': [0.020775289296486397, 1940],\n",
       " '0249.obj': [0.017596507560543997, 1900],\n",
       " '0250.obj': [0.020314523352823882, 1940],\n",
       " '0251.obj': [0.017073458830787154, 1840],\n",
       " '0252.obj': [0.01697128838841012, 1740],\n",
       " '0253.obj': [0.016518861239030215, 1840],\n",
       " '0254.obj': [0.017450069652735028, 1780],\n",
       " '0255.obj': [0.01603082362822993, 1980],\n",
       " '0256.obj': [0.015759594369649205, 1880],\n",
       " '0257.obj': [0.016696930068025834, 1720],\n",
       " '0258.obj': [0.017981281660246252, 1980],\n",
       " '0259.obj': [0.018098474361265018, 1800],\n",
       " '0260.obj': [0.018709444636856077, 1960],\n",
       " '0261.obj': [0.019726799704906744, 1880],\n",
       " '0262.obj': [0.020288810529177883, 1900],\n",
       " '0263.obj': [0.016777129669867687, 1880],\n",
       " '0264.obj': [0.017217053895217917, 1980],\n",
       " '0265.obj': [0.018019445131235486, 1840],\n",
       " '0266.obj': [0.01777537518294597, 1980],\n",
       " '0267.obj': [0.017632342745205778, 1720],\n",
       " '0268.obj': [0.019849996415367832, 1820],\n",
       " '0269.obj': [0.021180528623048884, 1900],\n",
       " '0270.obj': [0.017756442345719974, 1960],\n",
       " '0271.obj': [0.01901719669565794, 1900],\n",
       " '0272.obj': [0.017086831429968405, 1840],\n",
       " '0273.obj': [0.017703264458591036, 1800],\n",
       " '0274.obj': [0.016993070618520435, 1700],\n",
       " '0275.obj': [0.016967328975729768, 1700],\n",
       " '0276.obj': [0.016608996000437033, 1700],\n",
       " '0277.obj': [0.016944507823347204, 1820],\n",
       " '0278.obj': [0.01727669947418515, 1900],\n",
       " '0279.obj': [0.019286683806684607, 1960],\n",
       " '0280.obj': [0.01872330350512115, 1980],\n",
       " '0281.obj': [0.01696035720470287, 1820],\n",
       " '0282.obj': [0.018094808654466214, 1720],\n",
       " '0283.obj': [0.01668388305451367, 1720],\n",
       " '0284.obj': [0.0164801329781015, 1840],\n",
       " '0285.obj': [0.017202858438716096, 1900],\n",
       " '0286.obj': [0.017791330972656526, 1760],\n",
       " '0287.obj': [0.020299279260007, 1840],\n",
       " '0288.obj': [0.01770196089414471, 1700],\n",
       " '0289.obj': [0.017681599398838392, 1800],\n",
       " '0290.obj': [0.016964726484982123, 1980],\n",
       " '0291.obj': [0.016038943051199513, 1780],\n",
       " '0292.obj': [0.015705675198811535, 1820],\n",
       " '0293.obj': [0.017394434627205094, 1960],\n",
       " '0294.obj': [0.016504085675733055, 1840],\n",
       " '0295.obj': [0.016948571477088836, 1900],\n",
       " '0296.obj': [0.0177388925948535, 1720],\n",
       " '0297.obj': [0.01796796483681531, 1980],\n",
       " '0298.obj': [0.01742352367382786, 1720],\n",
       " '0299.obj': [0.01904141074541959, 1820],\n",
       " '0300.obj': [0.016814797226171165, 1820],\n",
       " '0301.obj': [0.017871070198236996, 1960],\n",
       " '0302.obj': [0.017087286649467022, 1720],\n",
       " '0303.obj': [0.01777995311010787, 1740],\n",
       " '0304.obj': [0.015942880979359638, 1900],\n",
       " '0305.obj': [0.017482821282093344, 1900],\n",
       " '0306.obj': [0.01831285649089448, 1800],\n",
       " '0307.obj': [0.017102720646762073, 1780],\n",
       " '0308.obj': [0.016365076053034423, 1840],\n",
       " '0309.obj': [0.016906790844269864, 1800],\n",
       " '0310.obj': [0.016823535941669937, 1900],\n",
       " '0311.obj': [0.01744396356893385, 1780],\n",
       " '0312.obj': [0.018135477876237843, 1880],\n",
       " '0313.obj': [0.018028637019831262, 1720],\n",
       " '0314.obj': [0.017243171328232287, 1960],\n",
       " '0315.obj': [0.017016620442632406, 1720],\n",
       " '0316.obj': [0.017865425282217746, 1960],\n",
       " '0317.obj': [0.02067270363690839, 1920],\n",
       " '0318.obj': [0.018853485160598184, 1900],\n",
       " '0319.obj': [0.01723546814124954, 1700],\n",
       " '0320.obj': [0.020741424419115962, 1940],\n",
       " '0321.obj': [0.01816054162387653, 1880],\n",
       " '0322.obj': [0.01857701525238088, 1720],\n",
       " '0323.obj': [0.01635241574576911, 1800],\n",
       " '0324.obj': [0.017316364791910333, 1720],\n",
       " '0325.obj': [0.01800018683526575, 1700],\n",
       " '0326.obj': [0.018523108337989282, 1980],\n",
       " '0327.obj': [0.01592759738455677, 1980],\n",
       " '0328.obj': [0.01819768880480806, 1980],\n",
       " '0329.obj': [0.014960378002212593, 1720],\n",
       " '0330.obj': [0.02113363937274044, 1720],\n",
       " '0331.obj': [0.018290487575193696, 1960],\n",
       " '0332.obj': [0.01723195721143208, 1840],\n",
       " '0333.obj': [0.018745157391616977, 1840],\n",
       " '0334.obj': [0.016934211755440066, 1960],\n",
       " '0335.obj': [0.01762424455758944, 1720],\n",
       " '0336.obj': [0.01938676811973537, 1700],\n",
       " '0337.obj': [0.02175344550681182, 1800],\n",
       " '0338.obj': [0.019782527557884, 1960],\n",
       " '0339.obj': [0.017361112642474218, 1720],\n",
       " '0340.obj': [0.019805260827516907, 1940],\n",
       " '0341.obj': [0.018412074706223937, 1820],\n",
       " '0342.obj': [0.020403253294367783, 1780],\n",
       " '0343.obj': [0.01769612847724421, 1700],\n",
       " '0344.obj': [0.020938690988560254, 1700],\n",
       " '0345.obj': [0.01918386750055936, 1920],\n",
       " '0346.obj': [0.01924652515650294, 1900],\n",
       " '0347.obj': [0.018744906977896002, 1760],\n",
       " '0348.obj': [0.018829724575251464, 1940],\n",
       " '0349.obj': [0.019608108982313955, 1880],\n",
       " '0350.obj': [0.01805214387596301, 1760],\n",
       " '0351.obj': [0.018074643342852977, 1720],\n",
       " '0352.obj': [0.01624647297432694, 1980],\n",
       " '0353.obj': [0.018011586799625962, 1960],\n",
       " '0354.obj': [0.021180071120424863, 1900],\n",
       " '0355.obj': [0.01834761535148582, 1760],\n",
       " '0356.obj': [0.016927034124435494, 1820],\n",
       " '0357.obj': [0.017685581340676097, 1820],\n",
       " '0358.obj': [0.019098378935373132, 1880],\n",
       " '0359.obj': [0.01921901325246286, 1940],\n",
       " '0360.obj': [0.01581098397736953, 1840],\n",
       " '0361.obj': [0.019126269193366855, 1980],\n",
       " '0362.obj': [0.017481011647079586, 1940],\n",
       " '0363.obj': [0.01665378002927509, 1720],\n",
       " '0364.obj': [0.016848820493786335, 1980],\n",
       " '0365.obj': [0.017127152915456263, 1960],\n",
       " '0366.obj': [0.01658686243978741, 1780],\n",
       " '0367.obj': [0.01868454017303006, 1940],\n",
       " '0368.obj': [0.016584012554648784, 1820],\n",
       " '0369.obj': [0.016476524417374815, 1980],\n",
       " '0370.obj': [0.017148955681975657, 1960],\n",
       " '0371.obj': [0.019589552348800294, 1700],\n",
       " '0372.obj': [0.017685739439731542, 1960],\n",
       " '0373.obj': [0.016981841329784194, 1800],\n",
       " '0374.obj': [0.018605190804291065, 1700],\n",
       " '0375.obj': [0.01614755004688234, 1820],\n",
       " '0376.obj': [0.018764991367585675, 1720],\n",
       " '0377.obj': [0.016418810760041036, 1960],\n",
       " '0378.obj': [0.01762523717443488, 1820],\n",
       " '0379.obj': [0.01696735234382438, 1960],\n",
       " '0380.obj': [0.019095175063050616, 1940],\n",
       " '0381.obj': [0.019557240405008124, 1720],\n",
       " '0382.obj': [0.02294444137807378, 1700],\n",
       " '0383.obj': [0.01840632467444925, 1980],\n",
       " '0384.obj': [0.017628506500236524, 1720],\n",
       " '0385.obj': [0.015852101995399173, 1980],\n",
       " '0386.obj': [0.01780898774322493, 1840],\n",
       " '0387.obj': [0.01986491341040458, 1820],\n",
       " '0388.obj': [0.01743103754869888, 1720],\n",
       " '0389.obj': [0.01589954208475715, 1940],\n",
       " '0390.obj': [0.019937439006851083, 1880],\n",
       " '0391.obj': [0.016966915638922497, 1820],\n",
       " '0392.obj': [0.018662612305014484, 1880],\n",
       " '0393.obj': [0.01699613537017519, 1900],\n",
       " '0394.obj': [0.020001440369806934, 1740],\n",
       " '0395.obj': [0.01950068423530712, 1980],\n",
       " '0396.obj': [0.019953470326601566, 1940],\n",
       " '0397.obj': [0.017241532991391716, 1980],\n",
       " '0398.obj': [0.018953722238416463, 1880],\n",
       " '0399.obj': [0.01655979696603555, 1980],\n",
       " '0400.obj': [0.017468900426611093, 1980],\n",
       " '0401.obj': [0.0188693460526626, 1700],\n",
       " '0402.obj': [0.014836302456810899, 1960],\n",
       " '0403.obj': [0.01754245012024658, 1740],\n",
       " '0404.obj': [0.01893794158734315, 1780],\n",
       " '0405.obj': [0.022976302771676095, 1760],\n",
       " '0406.obj': [0.017178757962260375, 1740],\n",
       " '0407.obj': [0.016382189217008895, 1960],\n",
       " '0408.obj': [0.018360379264618247, 1820],\n",
       " '0409.obj': [0.017362171293927243, 1780],\n",
       " '0410.obj': [0.016992753671933238, 1940],\n",
       " '0411.obj': [0.01702654297814943, 1720],\n",
       " '0412.obj': [0.017281545885664325, 1960],\n",
       " '0413.obj': [0.017187305954167845, 1960],\n",
       " '0414.obj': [0.017727008498788777, 1800],\n",
       " '0415.obj': [0.01858459891300875, 1900],\n",
       " '0416.obj': [0.017266016609097903, 1740],\n",
       " '0417.obj': [0.01706369343145042, 1720],\n",
       " '0418.obj': [0.014710698871487522, 1880],\n",
       " '0419.obj': [0.01828129049964829, 1780],\n",
       " '0420.obj': [0.015766228714642446, 1960],\n",
       " '0421.obj': [0.015562073939918257, 1980],\n",
       " '0422.obj': [0.016755107961311678, 1740],\n",
       " '0423.obj': [0.019862853812166754, 1740],\n",
       " '0424.obj': [0.014737423734875502, 1980],\n",
       " '0425.obj': [0.018067368234713724, 1720],\n",
       " '0426.obj': [0.01812891196477217, 1740],\n",
       " '0427.obj': [0.017874285901451147, 1740],\n",
       " '0428.obj': [0.017473018505971733, 1700],\n",
       " '0429.obj': [0.018847661394077952, 1840],\n",
       " '0430.obj': [0.01755973682793092, 1920],\n",
       " '0431.obj': [0.01945701110097297, 1720],\n",
       " '0432.obj': [0.018974182670230315, 1760],\n",
       " '0433.obj': [0.018888749723693605, 1840],\n",
       " '0434.obj': [0.017931603742135458, 1740],\n",
       " '0435.obj': [0.019118151657854826, 1740],\n",
       " '0436.obj': [0.020032574454551668, 1900],\n",
       " '0437.obj': [0.01749009672716324, 1960],\n",
       " '0438.obj': [0.01814565968655713, 1800],\n",
       " '0439.obj': [0.01675593533161028, 1840],\n",
       " '0440.obj': [0.019133131813938838, 1960],\n",
       " '0441.obj': [0.017232267105254544, 1740],\n",
       " '0442.obj': [0.01619136840052635, 1840],\n",
       " '0443.obj': [0.018266135005484328, 1960],\n",
       " '0444.obj': [0.016602634157932842, 1840],\n",
       " '0445.obj': [0.01683318833974403, 1880],\n",
       " '0446.obj': [0.017333421500920307, 1720],\n",
       " '0447.obj': [0.0167572832896637, 1820],\n",
       " '0448.obj': [0.01587565902071164, 1840],\n",
       " '0449.obj': [0.019228840615191593, 1800],\n",
       " '0450.obj': [0.018178922669298433, 1720],\n",
       " '0451.obj': [0.01722098981687099, 1740],\n",
       " '0452.obj': [0.018673230062383996, 1740],\n",
       " '0453.obj': [0.016842381936772583, 1840],\n",
       " '0454.obj': [0.019249440219132358, 1800],\n",
       " '0455.obj': [0.019043920397489433, 1740],\n",
       " '0456.obj': [0.019301401379813753, 1940],\n",
       " '0457.obj': [0.017378070385311438, 1960],\n",
       " '0458.obj': [0.018404463154136373, 1840],\n",
       " '0459.obj': [0.01759002029669719, 1740],\n",
       " '0460.obj': [0.017850769457977887, 1720],\n",
       " '0461.obj': [0.01900719876797016, 1980],\n",
       " '0462.obj': [0.01893291452881725, 1900],\n",
       " '0463.obj': [0.017784722085783935, 1720],\n",
       " '0464.obj': [0.019449713240185296, 1700],\n",
       " '0465.obj': [0.0161756149108658, 1780],\n",
       " '0466.obj': [0.019343111132322233, 1700],\n",
       " '0467.obj': [0.01869621281525961, 1720],\n",
       " '0468.obj': [0.01752385524299158, 1720],\n",
       " '0469.obj': [0.01814986256472437, 1960],\n",
       " '0470.obj': [0.017453617224449228, 1980],\n",
       " '0471.obj': [0.01704440670620492, 1740],\n",
       " '0472.obj': [0.016889677753485637, 1880],\n",
       " '0473.obj': [0.018842314525889147, 1740],\n",
       " '0474.obj': [0.01920586774163968, 1980],\n",
       " '0475.obj': [0.020605782947257793, 1940],\n",
       " '0476.obj': [0.01742175283600399, 1940],\n",
       " '0477.obj': [0.018447808913693003, 1980],\n",
       " '0478.obj': [0.017919758350276135, 1840],\n",
       " '0479.obj': [0.017434049330134083, 1800],\n",
       " '0480.obj': [0.01781236919658711, 1880],\n",
       " '0481.obj': [0.01708086132216619, 1880],\n",
       " '0482.obj': [0.018124649792190757, 1740],\n",
       " '0483.obj': [0.01919279349367387, 1800],\n",
       " '0484.obj': [0.020610023964679373, 1780],\n",
       " '0485.obj': [0.018408631005173377, 1840],\n",
       " '0486.obj': [0.019121277070145177, 1880],\n",
       " '0487.obj': [0.017490596688100466, 1980],\n",
       " '0488.obj': [0.01985994131175957, 1840],\n",
       " '0489.obj': [0.01727111512254613, 1700],\n",
       " '0490.obj': [0.02042909668998783, 1960],\n",
       " '0491.obj': [0.01876732655604188, 1840],\n",
       " '0492.obj': [0.020914931666429482, 1820],\n",
       " '0493.obj': [0.017243649744641508, 1700],\n",
       " '0494.obj': [0.017679394946944624, 1980],\n",
       " '0495.obj': [0.019410174808727452, 1760],\n",
       " '0496.obj': [0.016708848699277527, 1900],\n",
       " '0497.obj': [0.01602948563378427, 1720],\n",
       " '0498.obj': [0.018486287340903892, 1740],\n",
       " '0499.obj': [0.01685181503278096, 1880],\n",
       " '0500.obj': [0.017976817566470925, 1720],\n",
       " '0501.obj': [0.018486909995400872, 1740],\n",
       " '0502.obj': [0.01865887438866222, 1800],\n",
       " '0503.obj': [0.01948366803700746, 1840],\n",
       " '0504.obj': [0.018591559208286947, 1900],\n",
       " '0505.obj': [0.018203552542634234, 1720],\n",
       " '0506.obj': [0.018474419991254674, 1840],\n",
       " '0507.obj': [0.019769343554893782, 1740],\n",
       " '0508.obj': [0.016836267035846897, 1780],\n",
       " '0509.obj': [0.018588704235164448, 1780],\n",
       " '0510.obj': [0.019254573340406554, 1840],\n",
       " '0511.obj': [0.01835503971805577, 1820],\n",
       " '0512.obj': [0.019395439813519044, 1720],\n",
       " '0513.obj': [0.01805960289059665, 1940],\n",
       " '0514.obj': [0.01905251264172889, 1840],\n",
       " '0515.obj': [0.01595305842562493, 1760],\n",
       " '0516.obj': [0.01778795745791602, 1740],\n",
       " '0517.obj': [0.0185905119342031, 1880],\n",
       " '0518.obj': [0.01792845382724319, 1900],\n",
       " '0519.obj': [0.017982187028079178, 1700],\n",
       " '0520.obj': [0.018002300821753654, 1800],\n",
       " '0521.obj': [0.017037996278086824, 1900],\n",
       " '0522.obj': [0.018921707490104443, 1800],\n",
       " '0523.obj': [0.01807396921620858, 1840],\n",
       " '0524.obj': [0.017907806635305376, 1840],\n",
       " '0525.obj': [0.01770131957541593, 1800],\n",
       " '0526.obj': [0.018308384077958678, 1940],\n",
       " '0527.obj': [0.017894876453001977, 1980],\n",
       " '0528.obj': [0.017103154974691667, 1740],\n",
       " '0529.obj': [0.017477894076151284, 1940],\n",
       " '0530.obj': [0.017195032510537743, 1740]}"
      ]
     },
     "execution_count": 17,
     "metadata": {},
     "output_type": "execute_result"
    }
   ],
   "source": [
    "new_no_error"
   ]
  },
  {
   "cell_type": "code",
   "execution_count": null,
   "id": "6a10f3ab-7ab6-4a80-b7c5-bc6c6c9f2681",
   "metadata": {},
   "outputs": [],
   "source": []
  },
  {
   "cell_type": "code",
   "execution_count": null,
   "id": "ca686b58-2662-4b63-9fba-ff5df473ba77",
   "metadata": {},
   "outputs": [],
   "source": []
  },
  {
   "cell_type": "code",
   "execution_count": 20,
   "id": "d3cace02-cd48-4989-8589-bf2192fb17d8",
   "metadata": {},
   "outputs": [],
   "source": [
    "gt_mesh = './dataset/RGB3DCaricShop_raw_t_mesh_plus/processedData/tMesh/Angelina Jolie/C00011.obj'\n",
    "gen_mesh = '/media/hay/WD_4TB/lyy/rgb_test24/meshes/1980/0002.obj'"
   ]
  },
  {
   "cell_type": "code",
   "execution_count": 21,
   "id": "0e9161ae-9fe2-45dc-b780-10fba51761ee",
   "metadata": {},
   "outputs": [],
   "source": [
    "gt_v, _ = igl.read_triangle_mesh(gt_mesh)"
   ]
  },
  {
   "cell_type": "code",
   "execution_count": 38,
   "id": "07bd498b-bb70-4076-9668-c8d825005e4e",
   "metadata": {},
   "outputs": [],
   "source": [
    "gen_v, _ = igl.read_triangle_mesh(gen_mesh)"
   ]
  },
  {
   "cell_type": "code",
   "execution_count": 23,
   "id": "cc3e66e6-8f2f-4c6f-a4a8-37251374df03",
   "metadata": {},
   "outputs": [
    {
     "data": {
      "text/plain": [
       "((34649, 3), (34649, 3))"
      ]
     },
     "execution_count": 23,
     "metadata": {},
     "output_type": "execute_result"
    }
   ],
   "source": [
    "gt_v.shape, gen_v.shape"
   ]
  },
  {
   "cell_type": "code",
   "execution_count": 8,
   "id": "ec345ced-d980-4029-883a-ba7c2d55bce5",
   "metadata": {},
   "outputs": [],
   "source": [
    "gt_v = gt_v[:11551]\n",
    "gen_v = gen_v[:11551]"
   ]
  },
  {
   "cell_type": "code",
   "execution_count": 24,
   "id": "b90c0648-9483-40f1-8c46-9035e3817b82",
   "metadata": {},
   "outputs": [],
   "source": [
    "distances = np.linalg.norm(gt_v - gen_v, axis=1)"
   ]
  },
  {
   "cell_type": "code",
   "execution_count": 25,
   "id": "f6a49a97-0d50-4efc-bafd-b8fcf8f8f18d",
   "metadata": {},
   "outputs": [
    {
     "data": {
      "text/plain": [
       "(34649,)"
      ]
     },
     "execution_count": 25,
     "metadata": {},
     "output_type": "execute_result"
    }
   ],
   "source": [
    "distances.shape"
   ]
  },
  {
   "cell_type": "code",
   "execution_count": 26,
   "id": "2962b750-f884-48a2-9987-5f77f58573c0",
   "metadata": {},
   "outputs": [
    {
     "data": {
      "text/plain": [
       "array([0.0122948 , 0.00718942, 0.0238048 , ..., 0.03785376, 0.03009006,\n",
       "       0.03282299])"
      ]
     },
     "execution_count": 26,
     "metadata": {},
     "output_type": "execute_result"
    }
   ],
   "source": [
    "distances"
   ]
  },
  {
   "cell_type": "code",
   "execution_count": 27,
   "id": "cc3e32a5-a91e-4422-8628-3a0427a6d0ea",
   "metadata": {},
   "outputs": [
    {
     "data": {
      "text/plain": [
       "0.01883533576170626"
      ]
     },
     "execution_count": 27,
     "metadata": {},
     "output_type": "execute_result"
    }
   ],
   "source": [
    "np.mean(distances)"
   ]
  },
  {
   "cell_type": "code",
   "execution_count": 39,
   "id": "bd6e24d7-5d7b-4b30-b27d-86aa785333a0",
   "metadata": {},
   "outputs": [],
   "source": [
    "save_obj(f'{only_xyz_file}/0002.obj', gen_v, _)"
   ]
  },
  {
   "cell_type": "code",
   "execution_count": null,
   "id": "3c1c7622-e8ae-481c-8d4a-96a281a32966",
   "metadata": {},
   "outputs": [],
   "source": []
  },
  {
   "cell_type": "code",
   "execution_count": null,
   "id": "baec0640-c97d-4f87-b524-422cd45f86d4",
   "metadata": {},
   "outputs": [],
   "source": []
  },
  {
   "cell_type": "code",
   "execution_count": null,
   "id": "0872f176-1a28-496f-95ad-99bb71a851ce",
   "metadata": {},
   "outputs": [],
   "source": []
  },
  {
   "cell_type": "code",
   "execution_count": null,
   "id": "f57e4e6f-0c92-4512-b01f-171362748cdd",
   "metadata": {},
   "outputs": [],
   "source": []
  },
  {
   "cell_type": "code",
   "execution_count": 4,
   "id": "703a226b-8b7f-425c-b183-fc117a2cdffd",
   "metadata": {},
   "outputs": [],
   "source": [
    "name_no = {\n",
    "    'Angelina Jolie/C00011.obj': '0008.obj',  #\n",
    "    'Ann Hathaway/C00022.obj': '0013.obj',  #\n",
    "    'Anthony Hopkins/C00026.obj': '0017.obj',  #\n",
    "    'Anthony Hopkins/C00001.obj': '0015.obj',  #\n",
    "    'Arnold Schwarzenegger/C00015.obj': '0020.obj',  #\n",
    "    'Barack Obama/C00040.obj': '0049.obj',  #\n",
    "    'Barack Obama/C00001.obj': '0038.obj',  #\n",
    "    'Barack Obama/C00037.obj': '0048.obj',  #\n",
    "    'Ben Stiller/C00015.obj': '0054.obj',  #\n",
    "}"
   ]
  },
  {
   "cell_type": "code",
   "execution_count": 14,
   "id": "9a67a18b-3d73-4f36-87dc-865decabeeb3",
   "metadata": {},
   "outputs": [],
   "source": [
    "def get_error(gt_file, gen_file):\n",
    "    gt_mesh = f'/home/hay/LYY/ori_DeepDeformable3DCaricatures/dataset/3DCaricShop/processedData/tMesh/{gt_file}'\n",
    "    gen_mesh = f'../ori_DeepDeformable3DCaricatures/model_dir/row_test01/meshes/{gen_file}'\n",
    "    gt_v, _ = igl.read_triangle_mesh(gt_mesh)\n",
    "    gen_v, _ = igl.read_triangle_mesh(gen_mesh)\n",
    "    distances = np.linalg.norm(gt_v - gen_v, axis=1)\n",
    "    return np.mean(distances)"
   ]
  },
  {
   "cell_type": "code",
   "execution_count": 15,
   "id": "fad70adb-041e-4300-aa7a-7bf87e951d57",
   "metadata": {},
   "outputs": [
    {
     "name": "stdout",
     "output_type": "stream",
     "text": [
      "0.030431625148585138 Angelina Jolie/C00011.obj 0008.obj\n",
      "0.019919284240278955 Ann Hathaway/C00022.obj 0013.obj\n",
      "0.015224854580353692 Anthony Hopkins/C00026.obj 0017.obj\n",
      "0.016168863360835135 Anthony Hopkins/C00001.obj 0015.obj\n",
      "0.01640488404796391 Arnold Schwarzenegger/C00015.obj 0020.obj\n",
      "0.03115795729139651 Barack Obama/C00040.obj 0049.obj\n",
      "0.016906835952850318 Barack Obama/C00001.obj 0038.obj\n",
      "0.018416651643950448 Barack Obama/C00037.obj 0048.obj\n",
      "0.015658910305368576 Ben Stiller/C00015.obj 0054.obj\n"
     ]
    }
   ],
   "source": [
    "for a, b in name_no.items():\n",
    "    print(get_error(a, b), a, b)"
   ]
  },
  {
   "cell_type": "code",
   "execution_count": 28,
   "id": "ffaf9586-a805-4e34-8656-dff55c89d8c5",
   "metadata": {},
   "outputs": [],
   "source": [
    "gt_t_mesh = '/home/hay/LYY/ori_DeepDeformable3DCaricatures/dataset/3DCaricShop/processedData/tMesh/Angelina Jolie/C00011.obj'\n",
    "gen_t_mesh = '../ori_DeepDeformable3DCaricatures/model_dir/row_test01/meshes/0008.obj'"
   ]
  },
  {
   "cell_type": "code",
   "execution_count": 29,
   "id": "8e3404c7-54d1-44fa-bc17-884eea4983bf",
   "metadata": {},
   "outputs": [],
   "source": [
    "gt_t_v, _ = igl.read_triangle_mesh(gt_t_mesh)\n",
    "gen_t_v, _ = igl.read_triangle_mesh(gen_t_mesh)"
   ]
  },
  {
   "cell_type": "code",
   "execution_count": 30,
   "id": "ab9c8660-2363-46a6-8982-8278e96a8f90",
   "metadata": {},
   "outputs": [],
   "source": [
    "distances_t = np.linalg.norm(gt_t_v - gen_t_v, axis=1)"
   ]
  },
  {
   "cell_type": "code",
   "execution_count": 31,
   "id": "5bd3cb2d-2cf4-4722-86b9-933fcb9a7348",
   "metadata": {},
   "outputs": [
    {
     "data": {
      "text/plain": [
       "array([0.02989731, 0.03777773, 0.06503929, ..., 0.03346448, 0.01550418,\n",
       "       0.04675451])"
      ]
     },
     "execution_count": 31,
     "metadata": {},
     "output_type": "execute_result"
    }
   ],
   "source": [
    "distances_t"
   ]
  },
  {
   "cell_type": "code",
   "execution_count": 32,
   "id": "6d9ff7f3-1a24-4ee8-bc09-71bc38c5de89",
   "metadata": {},
   "outputs": [
    {
     "data": {
      "text/plain": [
       "0.030431625148585138"
      ]
     },
     "execution_count": 32,
     "metadata": {},
     "output_type": "execute_result"
    }
   ],
   "source": [
    "np.mean(distances_t)"
   ]
  },
  {
   "cell_type": "code",
   "execution_count": null,
   "id": "aa3cc1f9-9475-4369-a3f3-1240a2e44e88",
   "metadata": {},
   "outputs": [],
   "source": []
  }
 ],
 "metadata": {
  "kernelspec": {
   "display_name": "py38",
   "language": "python",
   "name": "py38"
  },
  "language_info": {
   "codemirror_mode": {
    "name": "ipython",
    "version": 3
   },
   "file_extension": ".py",
   "mimetype": "text/x-python",
   "name": "python",
   "nbconvert_exporter": "python",
   "pygments_lexer": "ipython3",
   "version": "3.8.17"
  }
 },
 "nbformat": 4,
 "nbformat_minor": 5
}
